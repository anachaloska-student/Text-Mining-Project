{
 "cells": [
  {
   "cell_type": "markdown",
   "metadata": {},
   "source": [
    "# 2. EMOTION ANALYSIS\n",
    "####  *Word-Based*"
   ]
  },
  {
   "cell_type": "markdown",
   "metadata": {},
   "source": [
    "- **Assigns values for each emotion associated with each word in the reviews of the dataset**\n",
    "\n",
    "- **Creates a csv file containing 11 columns, namely** \n",
    "    - **english word**\n",
    "    - **anger** \n",
    "    - **fear**\n",
    "    - **anticipation**\n",
    "    - **trust**\n",
    "    - **surprise**\n",
    "    - **sadness**\n",
    "    - **joy**\n",
    "    - **disgust**\n",
    "    - **sentence (number of sentence the word is part of)**\n",
    "    - **review (number of review the word is part of)**"
   ]
  },
  {
   "cell_type": "code",
   "execution_count": 1,
   "metadata": {
    "collapsed": true
   },
   "outputs": [],
   "source": [
    "# -*- coding: utf-8 -*-\n",
    "\n",
    "import csv\n",
    "import json\n",
    "import sys"
   ]
  },
  {
   "cell_type": "code",
   "execution_count": 2,
   "metadata": {
    "collapsed": true
   },
   "outputs": [],
   "source": [
    "# Files\n",
    "LEXICON_FILE = 'NRC-Emotion-Lexicon-v0.92-English.csv'\n",
    "CATEGORIES_FILE = 'categories.json'\n",
    "\n",
    "TEXT_FILE = 'review_sentences.json'\n",
    "DATA_FILE = 'output_data_sentences.csv'"
   ]
  },
  {
   "cell_type": "markdown",
   "metadata": {},
   "source": [
    "----"
   ]
  },
  {
   "cell_type": "code",
   "execution_count": 3,
   "metadata": {
    "collapsed": true
   },
   "outputs": [],
   "source": [
    "# Init\n",
    "vocabulary = []\n",
    "words = []\n",
    "categories = {}\n",
    "category_headers = []\n",
    "text = {}\n",
    "data = []\n",
    "chapters = []"
   ]
  },
  {
   "cell_type": "code",
   "execution_count": 4,
   "metadata": {
    "collapsed": true
   },
   "outputs": [],
   "source": [
    "# Read vocabulary\n",
    "with open(LEXICON_FILE, 'r') as f:\n",
    "    rows = csv.reader(f, delimiter=',')\n",
    "    headers = next(rows, None) # remove header\n",
    "    for row in rows:\n",
    "        entry = {}\n",
    "        for i, h in enumerate(headers):\n",
    "            entry[h] = row[i]\n",
    "        vocabulary.append(entry)\n",
    "    #print (vocabulary)\n",
    "    words = [v['\\xef\\xbb\\xbfenglish word'] for v in vocabulary]"
   ]
  },
  {
   "cell_type": "code",
   "execution_count": 5,
   "metadata": {
    "collapsed": true
   },
   "outputs": [],
   "source": [
    "# Read categories\n",
    "with open(CATEGORIES_FILE) as f:\n",
    "    categories = json.load(f)\n",
    "    emotions = categories['emotion']"
   ]
  },
  {
   "cell_type": "code",
   "execution_count": 6,
   "metadata": {
    "collapsed": true
   },
   "outputs": [],
   "source": [
    "# lemmatized filtered etc words from all reviews. list of lists\n",
    "reviews = []\n",
    "# Read normalized text\n",
    "with open(TEXT_FILE) as f:\n",
    "    text = json.load(f)\n",
    "    for i in range(len(text)):\n",
    "        reviews.append(text[i])"
   ]
  },
  {
   "cell_type": "code",
   "execution_count": 7,
   "metadata": {},
   "outputs": [
    {
     "name": "stdout",
     "output_type": "stream",
     "text": [
      "(25246, 'sentences', 158838, 'words')\n"
     ]
    }
   ],
   "source": [
    "sent = 0\n",
    "word = 0\n",
    "\n",
    "for review in reviews:\n",
    "    sent += len(review)\n",
    "    for sentence in review:\n",
    "        word += len(sentence)\n",
    "    \n",
    "print (sent, 'sentences', word, 'words')"
   ]
  },
  {
   "cell_type": "code",
   "execution_count": 8,
   "metadata": {
    "collapsed": true
   },
   "outputs": [],
   "source": [
    "# Check if word matches any lexicons\n",
    "def addData(word, review, sentence):\n",
    "    global data\n",
    "    global vocabulary\n",
    "    global emotions\n",
    "    global words\n",
    "\n",
    "    match = -1\n",
    "    for i,w in enumerate(words):\n",
    "        if w==word:\n",
    "            match = i\n",
    "            break\n",
    "\n",
    "    if match >= 0:\n",
    "        for item in vocabulary:\n",
    "            if item['\\xef\\xbb\\xbfenglish word'] == word:\n",
    "                entry = item\n",
    "                break\n",
    "            else: \n",
    "                continue\n",
    "        row = [None]*11\n",
    "        i = 0\n",
    "        row[i] = entry['\\xef\\xbb\\xbfenglish word']\n",
    "        for emotion in emotions:\n",
    "            i += 1\n",
    "            if entry[emotion]:\n",
    "                row[i] = entry[emotion]\n",
    "            else:\n",
    "                row[i] = -1\n",
    "        row[i+1] = review\n",
    "        row[i+2] = sentence\n",
    "        data.append(row)"
   ]
  },
  {
   "cell_type": "code",
   "execution_count": 9,
   "metadata": {
    "collapsed": true
   },
   "outputs": [],
   "source": [
    "# Read each review\n",
    "data = []\n",
    "for i, review in enumerate(reviews):\n",
    "    for j, sentence in enumerate(review):\n",
    "        for word in sentence:\n",
    "            addData(word, i, j)"
   ]
  },
  {
   "cell_type": "code",
   "execution_count": 10,
   "metadata": {
    "collapsed": true
   },
   "outputs": [],
   "source": [
    "import os\n",
    "if os.path.isfile('output_data_sentences.csv'):\n",
    "    os.remove('output_data_sentences.csv')"
   ]
  },
  {
   "cell_type": "code",
   "execution_count": 11,
   "metadata": {},
   "outputs": [
    {
     "name": "stdout",
     "output_type": "stream",
     "text": [
      "Successfully wrote 98213 entries to file: output_data_sentences.csv\n"
     ]
    }
   ],
   "source": [
    "# Output data as csv\n",
    "with open(DATA_FILE, 'w') as f:\n",
    "    cw = csv.writer(f)\n",
    "    headers = ['english word']\n",
    "    for emotion in emotions:\n",
    "        headers.append(emotion)\n",
    "    headers.append(u'review')\n",
    "    headers.append(u'sentence')\n",
    "    cw.writerow(headers)\n",
    "    for row in data:\n",
    "        cw.writerow(row)\n",
    "    print('Successfully wrote '+str(len(data))+' entries to file: '+DATA_FILE)"
   ]
  },
  {
   "cell_type": "code",
   "execution_count": null,
   "metadata": {
    "collapsed": true
   },
   "outputs": [],
   "source": []
  }
 ],
 "metadata": {
  "anaconda-cloud": {},
  "kernelspec": {
   "display_name": "Python [Root]",
   "language": "python",
   "name": "Python [Root]"
  },
  "language_info": {
   "codemirror_mode": {
    "name": "ipython",
    "version": 2
   },
   "file_extension": ".py",
   "mimetype": "text/x-python",
   "name": "python",
   "nbconvert_exporter": "python",
   "pygments_lexer": "ipython2",
   "version": "2.7.13"
  }
 },
 "nbformat": 4,
 "nbformat_minor": 1
}
