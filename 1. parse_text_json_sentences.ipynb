{
 "cells": [
  {
   "cell_type": "markdown",
   "metadata": {},
   "source": [
    "# 1. PREPROCESSING THE DATA"
   ]
  },
  {
   "cell_type": "code",
   "execution_count": 1,
   "metadata": {
    "collapsed": true
   },
   "outputs": [],
   "source": [
    "import json\n",
    "from langdetect import detect\n",
    "\n",
    "from gensim import corpora, models\n",
    "\n",
    "import nltk\n",
    "from nltk.corpus import wordnet as wn\n",
    "from nltk.corpus import stopwords\n",
    "from nltk.tokenize import word_tokenize\n",
    "\n",
    "import re\n",
    "import sys\n",
    "\n",
    "import numpy as np\n",
    "import matplotlib.pyplot as plt"
   ]
  },
  {
   "cell_type": "markdown",
   "metadata": {},
   "source": [
    "----"
   ]
  },
  {
   "cell_type": "code",
   "execution_count": 2,
   "metadata": {
    "collapsed": true
   },
   "outputs": [],
   "source": [
    "# Files\n",
    "TEXT_FILE = 'reviewqr.txt'\n",
    "OUTPUT_FILE = 'review_sentences.json'"
   ]
  },
  {
   "cell_type": "code",
   "execution_count": 3,
   "metadata": {
    "collapsed": true
   },
   "outputs": [],
   "source": [
    "# parses the data\n",
    "reviews = []\n",
    "with open(TEXT_FILE, 'rb') as f:\n",
    "    for line in f:\n",
    "        data = json.loads(line)\n",
    "        reviews.append(data)"
   ]
  },
  {
   "cell_type": "markdown",
   "metadata": {},
   "source": [
    "---- "
   ]
  },
  {
   "cell_type": "markdown",
   "metadata": {},
   "source": [
    "### TEXT REVIEWS"
   ]
  },
  {
   "cell_type": "markdown",
   "metadata": {},
   "source": [
    "- **Removing unneccesary imformation (title, author, date_stayed etc.) and saving ratings (numerical) and text (textual comment/review)**\n",
    "- **Lowercasing**\n",
    "- **Removing reviews written in a language other than English** \n",
    "- **Removing reviews with incomplete numerical ratings (len(review['rating']<7))**\n",
    "- **Collecting a list of textual reviews of all the reviews in the dataset**"
   ]
  },
  {
   "cell_type": "code",
   "execution_count": 4,
   "metadata": {
    "collapsed": true
   },
   "outputs": [],
   "source": [
    "for review in reviews:\n",
    "    for key in ('title','author', 'date_stayed', 'offering_id', 'num_helpful_votes', 'date', 'id', 'via_mobile'):\n",
    "        if key in review:\n",
    "            del review[key]\n",
    "    review['text']=review['text'].lower()\n",
    "    if not detect(review['text'])=='en':\n",
    "        reviews.remove(review)\n",
    "    #if len(review['ratings'])!=7:\n",
    "       # reviews.remove(review)"
   ]
  },
  {
   "cell_type": "code",
   "execution_count": 5,
   "metadata": {
    "collapsed": true
   },
   "outputs": [],
   "source": [
    "# collects all the textual reviews in a list of lists with sentences\n",
    "all_reviews = []\n",
    "for review in reviews:\n",
    "    all_reviews.append(re.split(r' *[\\.\\?!][\\'\"\\)\\]]* *', review['text']))"
   ]
  },
  {
   "cell_type": "code",
   "execution_count": 6,
   "metadata": {
    "collapsed": true
   },
   "outputs": [],
   "source": [
    "word_tokens = []\n",
    "\n",
    "for review in all_reviews:\n",
    "    word_tokens_sentence = []\n",
    "    for sentence in review:\n",
    "        word_tokens_sentence.append(word_tokenize(sentence))\n",
    "    word_tokens.append(word_tokens_sentence)"
   ]
  },
  {
   "cell_type": "code",
   "execution_count": 7,
   "metadata": {
    "collapsed": true
   },
   "outputs": [],
   "source": [
    "# Based on some papers we looked at, we manually removed some of the english stopwords which could affect our emotion analysis \n",
    "stop_words = set(stopwords.words('english'))-set(('no', 'not', 'didn', 'doesn', 'don', 'down', 'hasn', 'haven'))\n",
    "\n",
    "filtered_reviews = []\n",
    "for word_token in word_tokens:\n",
    "    filtered_reviews_sentence = []\n",
    "    for word_token_sentence in word_token:\n",
    "        filtered_reviews_sentence.append([w for w in word_token_sentence if not w in stop_words])\n",
    "    filtered_reviews.append(filtered_reviews_sentence)"
   ]
  },
  {
   "cell_type": "code",
   "execution_count": 8,
   "metadata": {
    "collapsed": true
   },
   "outputs": [],
   "source": [
    "# removes the non-alphabetic characters \n",
    "isalpha_filtered_reviews = []\n",
    "for review in filtered_reviews:\n",
    "    isalpha_filtered_sentences = []\n",
    "    for sentence in review:\n",
    "        isalpha_sentence = []\n",
    "        for word in sentence:\n",
    "            #isalpha_review.append(regex.sub('', word))\n",
    "            if word.isalpha() == True:\n",
    "                isalpha_sentence.append(word)\n",
    "        isalpha_filtered_sentences.append(isalpha_sentence)\n",
    "    isalpha_filtered_reviews.append(isalpha_filtered_sentences)"
   ]
  },
  {
   "cell_type": "code",
   "execution_count": 9,
   "metadata": {
    "collapsed": true
   },
   "outputs": [],
   "source": [
    "all_reviews = isalpha_filtered_reviews"
   ]
  },
  {
   "cell_type": "code",
   "execution_count": 10,
   "metadata": {
    "collapsed": true
   },
   "outputs": [],
   "source": [
    "# POS-Tagging and Lemmatization\n",
    "un2wn_mapping = {\"VERB\" : wn.VERB, \"NOUN\" : wn.NOUN, \"ADJ\" : wn.ADJ, \"ADV\" : wn.ADV}\n",
    "\n",
    "docs = []\n",
    "\n",
    "for review in all_reviews:\n",
    "    lemmatized_reviews = []\n",
    "    for sentence in review:\n",
    "        lemmatized_sentence = []\n",
    "        for w, p in nltk.pos_tag(sentence, tagset=\"universal\"):\n",
    "            if p in un2wn_mapping.keys():\n",
    "                lemma = nltk.WordNetLemmatizer().lemmatize(w, pos = un2wn_mapping[p])\n",
    "            else:\n",
    "                lemma = nltk.WordNetLemmatizer().lemmatize(w)\n",
    "\n",
    "            lemmatized_sentence.append(lemma.lower())  # case insensitive\n",
    "        lemmatized_reviews.append(lemmatized_sentence)\n",
    "    docs.append(lemmatized_reviews)"
   ]
  },
  {
   "cell_type": "code",
   "execution_count": 11,
   "metadata": {
    "collapsed": true
   },
   "outputs": [],
   "source": [
    "with open(OUTPUT_FILE, 'w') as f:\n",
    "    json.dump(docs, f)"
   ]
  },
  {
   "cell_type": "markdown",
   "metadata": {
    "collapsed": true
   },
   "source": [
    "### NUMERICAL RATINGS"
   ]
  },
  {
   "cell_type": "markdown",
   "metadata": {},
   "source": [
    "- **Collecting a list of numerical ratings of all the reviews in the dataset**\n",
    "- **Calculating average numerical raitngs for each of the topics (cleanliness, service, rooms, location, overall, sleep_quality, value)**\n",
    "- **Plotting the average numerical ratings for each of the topics**"
   ]
  },
  {
   "cell_type": "code",
   "execution_count": 12,
   "metadata": {
    "collapsed": true
   },
   "outputs": [],
   "source": [
    "all_ratings=[]\n",
    "for review in reviews:\n",
    "    all_ratings.append(review['ratings'])"
   ]
  },
  {
   "cell_type": "code",
   "execution_count": 13,
   "metadata": {
    "collapsed": true
   },
   "outputs": [],
   "source": [
    "topics=set()\n",
    "for review in all_ratings:\n",
    "    for topic,rating in review.items():\n",
    "        topics.add(topic)\n",
    "topics=list(topics)"
   ]
  },
  {
   "cell_type": "code",
   "execution_count": 14,
   "metadata": {
    "collapsed": true
   },
   "outputs": [],
   "source": [
    "cleanliness_rating=[]\n",
    "for review in all_ratings:\n",
    "    for topic, rating in review.items():\n",
    "        if topic == 'cleanliness':\n",
    "            cleanliness_rating.append(rating)\n",
    "cleanliness_rating=sum(cleanliness_rating)/len(cleanliness_rating)"
   ]
  },
  {
   "cell_type": "code",
   "execution_count": 15,
   "metadata": {
    "collapsed": true
   },
   "outputs": [],
   "source": [
    "service_rating=[]\n",
    "for review in all_ratings:\n",
    "    for topic, rating in review.items():\n",
    "        if topic == 'service':\n",
    "            service_rating.append(rating)\n",
    "service_rating=sum(service_rating)/len(service_rating)"
   ]
  },
  {
   "cell_type": "code",
   "execution_count": 16,
   "metadata": {
    "collapsed": true
   },
   "outputs": [],
   "source": [
    "location_rating=[]\n",
    "for review in all_ratings:\n",
    "    for topic, rating in review.items():\n",
    "        if topic == 'location':\n",
    "            location_rating.append(rating)\n",
    "location_rating=sum(location_rating)/len(location_rating)"
   ]
  },
  {
   "cell_type": "code",
   "execution_count": 17,
   "metadata": {
    "collapsed": true
   },
   "outputs": [],
   "source": [
    "value_rating=[]\n",
    "for review in all_ratings:\n",
    "    for topic, rating in review.items():\n",
    "        if topic == 'value':\n",
    "            value_rating.append(rating)\n",
    "value_rating=sum(value_rating)/len(value_rating)"
   ]
  },
  {
   "cell_type": "code",
   "execution_count": 18,
   "metadata": {
    "collapsed": true
   },
   "outputs": [],
   "source": [
    "sleep_quality_rating=[]\n",
    "for review in all_ratings:\n",
    "    for topic, rating in review.items():\n",
    "        if topic == 'sleep_quality':\n",
    "            sleep_quality_rating.append(rating)\n",
    "sleep_quality_rating=sum(sleep_quality_rating)/len(sleep_quality_rating)"
   ]
  },
  {
   "cell_type": "code",
   "execution_count": 19,
   "metadata": {
    "collapsed": true
   },
   "outputs": [],
   "source": [
    "rooms_rating=[]\n",
    "for review in all_ratings:\n",
    "    for topic, rating in review.items():\n",
    "        if topic == 'rooms':\n",
    "            rooms_rating.append(rating)\n",
    "rooms_rating=sum(rooms_rating)/len(rooms_rating)"
   ]
  },
  {
   "cell_type": "code",
   "execution_count": 20,
   "metadata": {
    "collapsed": true
   },
   "outputs": [],
   "source": [
    "average_ratings=[cleanliness_rating, service_rating, location_rating, value_rating, sleep_quality_rating, rooms_rating]\n",
    "average_ratings=np.array(average_ratings)\n",
    "average_ratings=average_ratings/5"
   ]
  },
  {
   "cell_type": "code",
   "execution_count": 21,
   "metadata": {},
   "outputs": [
    {
     "data": {
      "image/png": "[encoded data removed]",
      "text/plain": [
       "<matplotlib.figure.Figure at 0x118fe1d50>"
      ]
     },
     "metadata": {},
     "output_type": "display_data"
    }
   ],
   "source": [
    "plt.bar(range(len(average_ratings)), average_ratings, align='center')\n",
    "plt.title(\"Average ratings per topic\")\n",
    "plt.xticks(np.arange(6), topics)\n",
    "plt.show()"
   ]
  },
  {
   "cell_type": "code",
   "execution_count": null,
   "metadata": {
    "collapsed": true
   },
   "outputs": [],
   "source": []
  }
 ],
 "metadata": {
  "kernelspec": {
   "display_name": "Python [Root]",
   "language": "python",
   "name": "Python [Root]"
  },
  "language_info": {
   "codemirror_mode": {
    "name": "ipython",
    "version": 2
   },
   "file_extension": ".py",
   "mimetype": "text/x-python",
   "name": "python",
   "nbconvert_exporter": "python",
   "pygments_lexer": "ipython2",
   "version": "2.7.13"
  }
 },
 "nbformat": 4,
 "nbformat_minor": 1
}
