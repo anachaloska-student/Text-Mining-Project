{
 "cells": [
  {
   "cell_type": "code",
   "execution_count": 1,
   "metadata": {},
   "outputs": [
    {
     "name": "stderr",
     "output_type": "stream",
     "text": [
      "C:\\Users\\User\\Anaconda3new\\lib\\site-packages\\gensim-3.1.0-py3.6-win-amd64.egg\\gensim\\utils.py:860: UserWarning: detected Windows; aliasing chunkize to chunkize_serial\n",
      "  warnings.warn(\"detected Windows; aliasing chunkize to chunkize_serial\")\n",
      "Slow version of gensim.models.doc2vec is being used\n"
     ]
    }
   ],
   "source": [
    "import json\n",
    "from langdetect import detect\n",
    "\n",
    "import nltk\n",
    "\n",
    "from nltk.corpus import wordnet as wn\n",
    "\n",
    "from gensim import corpora, models\n",
    "\n",
    "from nltk.corpus import stopwords\n",
    "from nltk.tokenize import word_tokenize\n",
    "\n",
    "import re"
   ]
  },
  {
   "cell_type": "markdown",
   "metadata": {},
   "source": [
    "## Step 1: Preprocessing \n",
    "- Removing ***unneccesary imformation*** (title, author, date_stayed etc.) and saving **ratings** (numerical) and **text** (textual comment/review)\n",
    "- ***Lowercasing***\n",
    "- Removing reviews written in a ***language other than English*** (we might have to work on this part a bit more)\n",
    "- Removing reviews with ***incomplete numerical ratings*** (`len(review['rating']<7)`)\n",
    "- Collecting a ***list of numerical ratings*** of all the reviews in the dataset \n",
    "- Collecting a ***list of textual reviews*** of all the reviews in the dataset "
   ]
  },
  {
   "cell_type": "code",
   "execution_count": 2,
   "metadata": {},
   "outputs": [],
   "source": [
    "# parses the data\n",
    "reviews = []\n",
    "with open('review_copy.txt', 'r') as file:\n",
    "    for line in file:\n",
    "        data = json.loads(line)\n",
    "        reviews.append(data)"
   ]
  },
  {
   "cell_type": "code",
   "execution_count": 3,
   "metadata": {},
   "outputs": [
    {
     "name": "stdout",
     "output_type": "stream",
     "text": [
      "[{'ratings': {'service': 5.0, 'cleanliness': 5.0, 'overall': 5.0, 'value': 5.0, 'location': 5.0, 'sleep_quality': 5.0, 'rooms': 5.0}, 'title': '“Truly is \"Jewel of the Upper Wets Side\"”', 'text': 'Stayed in a king suite for 11 nights and yes it cots us a bit but we were happy with the standard of room, the location and the friendliness of the staff. Our room was on the 20th floor overlooking Broadway and the madhouse of the Fairway Market. Room was quite with no noise evident from the hallway or adjoining rooms. It was great to be able to open windows when we craved fresh rather than heated air. The beds, including the fold out sofa bed, were comfortable and the rooms were cleaned well. Wi-fi access worked like a dream with only one connectivity issue on our first night and this was promptly responded to with a call from the service provider to ensure that all was well. The location close to the 72nd Street subway station is great and the complimentary umbrellas on the drizzly days were greatly appreciated. It is fabulous to have the kitchen with cooking facilities and the access to a whole range of fresh foods directly across the road at Fairway.\\nThis is the second time that members of the party have stayed at the Beacon and it will certainly be our hotel of choice for future visits.', 'author': {'username': 'Papa_Panda', 'num_cities': 22, 'num_helpful_votes': 12, 'num_reviews': 29, 'num_type_reviews': 24, 'id': '8C0B42FF3C0FA366A21CFD785302A032', 'location': 'Gold Coast'}, 'date_stayed': 'December 2012', 'offering_id': 93338, 'num_helpful_votes': 0, 'date': 'December 17, 2012', 'id': 147643103, 'via_mobile': False}, {'ratings': {'service': 5.0, 'cleanliness': 5.0, 'overall': 5.0, 'value': 5.0, 'location': 5.0, 'sleep_quality': 5.0, 'rooms': 5.0}, 'title': '“My home away from home!”', 'text': 'On every visit to NYC, the Hotel Beacon is the place we love to stay. So conveniently located to Central Park, Lincoln Center and great local restaurants. The rooms are lovely - beds so comfortable, a great little kitchen and new wizz bang coffee maker. The staff are so accommodating and just love walking across the street to the Fairway supermarket with every imaginable goodies to eat (if you choose not to go out for every meal!)', 'author': {'username': 'Maureen V', 'num_reviews': 2, 'num_cities': 2, 'id': 'E3C85CA9DBBBC77E0DB534ABE93E4713', 'location': 'Sydney, New South Wales, Australia'}, 'date_stayed': 'December 2012', 'offering_id': 93338, 'num_helpful_votes': 0, 'date': 'December 17, 2012', 'id': 147639004, 'via_mobile': False}, {'ratings': {'service': 4.0, 'cleanliness': 5.0, 'overall': 4.0, 'value': 4.0, 'location': 5.0, 'sleep_quality': 4.0, 'rooms': 4.0}, 'title': '“Great Stay”', 'text': 'This is a great property in Midtown. We two different rooms different rooms during our stay. The first room was in the North tower, which was quite inconvenient. You have to go through the conference area to get to the north elevators. \\nThe second room was the Andaz Suite. It was nicely appointed room, but the best part about it was the bathroom. From the foot soaking bowl to the bath products, everything about the bathroom was awesome!\\nLemon poppy-seed pancakes are must haves at the restaurant. One of the best pancakes ever.', 'author': {'username': 'vuguru', 'num_cities': 12, 'num_helpful_votes': 17, 'num_reviews': 14, 'num_type_reviews': 14, 'id': 'FB1032DECE1162CB3556D05F278AAFFD', 'location': 'Houston'}, 'date_stayed': 'December 2012', 'offering_id': 1762573, 'num_helpful_votes': 0, 'date': 'December 18, 2012', 'id': 147697954, 'via_mobile': False}, {'ratings': {'service': 5.0, 'cleanliness': 5.0, 'overall': 4.0, 'value': 5.0, 'location': 5.0, 'sleep_quality': 5.0, 'rooms': 5.0}, 'title': '“Modern Convenience”', 'text': 'The Andaz is a nice hotel in a central location of Manhattan. The Hyatt has come up with a modern hotel that is both comfortable and convenient. When you arrive you are greeted by friendly \"Hosts\" and they walk you to the check-in desk while offering you a beverage. \\nWe had a one bedroom suite that accommodated four people reasonably well. Plenty of closet space, well lit with floor to ceiling windows, and actually quiet!\\nThe bathroom was large with a very nice walk-in shower and a built-in bench with unique low spout to wash your feet.\\nThe kitchenette was a nice touch with a stocked fridge offering complimentary non-alcoholic beverages and snacks, dishes and utensils, a sink, dishwasher, and a microwave. \\nThey have daily Happy Hour(s) where you can get a complimentary decent glass of wine in the modest Lobby Lounge and bring it to your room. The Lobby Lounge has some seating and one table with 8 or so chairs where you can buy food from the adjacent restaurant. One suggestion is to offer selections of cheese and crackers platters to go with that wine. We ordered one that had to be custom made, but it worked well. \\nWe didn\\'t eat in the hotel restaurants. The restaurant off the lobby was very pricey for breakfast (+$20 per entree). When you can get a decent breakfast within a block or two of the hotel for under $10, what can I say?\\nAs a hotel designer and someone who is very picky about hotels, I will definitely stay there again and I highly recommend it.', 'author': {'username': 'Hotel-Designer', 'num_cities': 5, 'num_helpful_votes': 26, 'num_reviews': 5, 'num_type_reviews': 5, 'id': 'EC3E275EE7590694889C8C7EE0D13961', 'location': 'Laguna Beach, CA'}, 'date_stayed': 'August 2012', 'offering_id': 1762573, 'num_helpful_votes': 0, 'date': 'December 17, 2012', 'id': 147625723, 'via_mobile': False}]\n"
     ]
    }
   ],
   "source": [
    "print(reviews)"
   ]
  },
  {
   "cell_type": "code",
   "execution_count": 4,
   "metadata": {
    "collapsed": true
   },
   "outputs": [],
   "source": [
    "# removes the unneccessary information from the data like title, author, date_stayed etc.\n",
    "# lowercases the data \n",
    "# detects the reviews written in English and removes the oes written in other languages \n",
    "for review in reviews:\n",
    "    for key in ('title','author', 'date_stayed', 'offering_id', 'num_helpful_votes', 'date', 'id', 'via_mobile'):\n",
    "        if key in review:\n",
    "            del review[key]\n",
    "    review['text']=review['text'].lower()\n",
    "    if not detect(review['text'])=='en':\n",
    "        reviews.remove(review)\n",
    "    if len(review['ratings'])!=7:\n",
    "        reviews.remove(review)"
   ]
  },
  {
   "cell_type": "code",
   "execution_count": 5,
   "metadata": {},
   "outputs": [
    {
     "name": "stdout",
     "output_type": "stream",
     "text": [
      "{'ratings': {'service': 5.0, 'cleanliness': 5.0, 'overall': 5.0, 'value': 5.0, 'location': 5.0, 'sleep_quality': 5.0, 'rooms': 5.0}, 'text': 'stayed in a king suite for 11 nights and yes it cots us a bit but we were happy with the standard of room, the location and the friendliness of the staff. our room was on the 20th floor overlooking broadway and the madhouse of the fairway market. room was quite with no noise evident from the hallway or adjoining rooms. it was great to be able to open windows when we craved fresh rather than heated air. the beds, including the fold out sofa bed, were comfortable and the rooms were cleaned well. wi-fi access worked like a dream with only one connectivity issue on our first night and this was promptly responded to with a call from the service provider to ensure that all was well. the location close to the 72nd street subway station is great and the complimentary umbrellas on the drizzly days were greatly appreciated. it is fabulous to have the kitchen with cooking facilities and the access to a whole range of fresh foods directly across the road at fairway.\\nthis is the second time that members of the party have stayed at the beacon and it will certainly be our hotel of choice for future visits.'}\n"
     ]
    }
   ],
   "source": [
    "print(reviews[0])"
   ]
  },
  {
   "cell_type": "code",
   "execution_count": 6,
   "metadata": {
    "collapsed": true
   },
   "outputs": [],
   "source": [
    "# collects all the numerical ratings in a list\n",
    "all_ratings=[]\n",
    "for review in reviews:\n",
    "    all_ratings.append(review['ratings']) "
   ]
  },
  {
   "cell_type": "code",
   "execution_count": 7,
   "metadata": {
    "collapsed": true
   },
   "outputs": [],
   "source": [
    "# collects all the textual reviews in a list\n",
    "all_reviews=[]\n",
    "for review in reviews:\n",
    "    all_reviews.append(review['text'])"
   ]
  },
  {
   "cell_type": "markdown",
   "metadata": {},
   "source": [
    "## Step 2: Transforming to structured format\n",
    "- ***Tokenization***\n",
    "- Filtering out ***stopwords*** (excluding negative stopwords in order not to affect our analysis)\n",
    "- Removing ***non-alphabetic characters***\n",
    "- ***POS tagging***\n",
    "- ***Lemmatization***\n",
    "- ***Bag of Words***"
   ]
  },
  {
   "cell_type": "code",
   "execution_count": 8,
   "metadata": {
    "collapsed": true
   },
   "outputs": [],
   "source": [
    "# Based on some papers I looked at, I manually removed some of the english stopwords which could affect our emotion analysis \n",
    "stop_words = set(stopwords.words('english'))-set(('no', 'not', 'didn', 'doesn', 'don', 'down', 'hasn', 'haven'))\n",
    "word_tokens = []\n",
    "for review in all_reviews:\n",
    "    word_tokens.append(word_tokenize(review))"
   ]
  },
  {
   "cell_type": "code",
   "execution_count": 9,
   "metadata": {
    "collapsed": true
   },
   "outputs": [],
   "source": [
    "filtered_sentences=[]\n",
    "for word_token in word_tokens:\n",
    "    filtered_sentences.append([w for w in word_token if not w in stop_words])"
   ]
  },
  {
   "cell_type": "code",
   "execution_count": 10,
   "metadata": {
    "collapsed": true
   },
   "outputs": [],
   "source": [
    "# removes the non-alphabetic characters \n",
    "isalpha_filtered_sentences=[]\n",
    "for sentence in filtered_sentences:\n",
    "    isalpha_sentence=[]\n",
    "    for word in sentence:\n",
    "        #isalpha_sentence.append(regex.sub('', word))\n",
    "        if word.isalpha()==True:\n",
    "            isalpha_sentence.append(word)\n",
    "    isalpha_filtered_sentences.append(isalpha_sentence)"
   ]
  },
  {
   "cell_type": "code",
   "execution_count": 11,
   "metadata": {
    "collapsed": true
   },
   "outputs": [],
   "source": [
    "all_reviews=isalpha_filtered_sentences"
   ]
  },
  {
   "cell_type": "code",
   "execution_count": 12,
   "metadata": {
    "collapsed": true
   },
   "outputs": [],
   "source": [
    "# remove punctuation afte pos tagging\n",
    "# too short words in the next cell"
   ]
  },
  {
   "cell_type": "code",
   "execution_count": 21,
   "metadata": {
    "collapsed": true
   },
   "outputs": [],
   "source": [
    "# POS-Tagging and Lemmatization\n",
    "#un2wn_mapping = {\"VERB\" : wn.VERB, \"NOUN\" : wn.NOUN}\n",
    "un2wn_mapping = {\"NOUN\" : wn.NOUN}\n",
    "\n",
    "docs = []\n",
    "\n",
    "for review in all_reviews:\n",
    "    lemmatized_reviews = []\n",
    "    for w, p in nltk.pos_tag(review, tagset=\"universal\"):\n",
    "        if p in un2wn_mapping.keys():\n",
    "            lemma = nltk.WordNetLemmatizer().lemmatize(w, pos = un2wn_mapping[p])\n",
    "        else:\n",
    "            lemma = nltk.WordNetLemmatizer().lemmatize(w)\n",
    "            \n",
    "        lemmatized_reviews.append(lemma.lower())  # case insensitive\n",
    "        \n",
    "    docs.append(lemmatized_reviews)"
   ]
  },
  {
   "cell_type": "code",
   "execution_count": 22,
   "metadata": {},
   "outputs": [
    {
     "name": "stdout",
     "output_type": "stream",
     "text": [
      "[['stayed', 'king', 'suite', 'night', 'yes', 'cot', 'u', 'bit', 'happy', 'standard', 'room', 'location', 'friendliness', 'staff', 'room', 'floor', 'overlooking', 'broadway', 'madhouse', 'fairway', 'market', 'room', 'quite', 'no', 'noise', 'evident', 'hallway', 'adjoining', 'room', 'great', 'able', 'open', 'window', 'craved', 'fresh', 'rather', 'heated', 'air', 'bed', 'including', 'fold', 'sofa', 'bed', 'comfortable', 'room', 'cleaned', 'well', 'access', 'worked', 'like', 'dream', 'one', 'connectivity', 'issue', 'first', 'night', 'promptly', 'responded', 'call', 'service', 'provider', 'ensure', 'well', 'location', 'close', 'street', 'subway', 'station', 'great', 'complimentary', 'umbrella', 'drizzly', 'day', 'greatly', 'appreciated', 'fabulous', 'kitchen', 'cooking', 'facility', 'access', 'whole', 'range', 'fresh', 'food', 'directly', 'across', 'road', 'fairway', 'second', 'time', 'member', 'party', 'stayed', 'beacon', 'certainly', 'hotel', 'choice', 'future', 'visit'], ['every', 'visit', 'nyc', 'hotel', 'beacon', 'place', 'love', 'stay', 'conveniently', 'located', 'central', 'park', 'lincoln', 'center', 'great', 'local', 'restaurant', 'room', 'lovely', 'bed', 'comfortable', 'great', 'little', 'kitchen', 'new', 'wizz', 'bang', 'coffee', 'maker', 'staff', 'accommodating', 'love', 'walking', 'across', 'street', 'fairway', 'supermarket', 'every', 'imaginable', 'goody', 'eat', 'choose', 'not', 'go', 'every', 'meal'], ['great', 'property', 'midtown', 'two', 'different', 'room', 'different', 'room', 'stay', 'first', 'room', 'north', 'tower', 'quite', 'inconvenient', 'go', 'conference', 'area', 'get', 'north', 'elevator', 'second', 'room', 'andaz', 'suite', 'nicely', 'appointed', 'room', 'best', 'part', 'bathroom', 'foot', 'soaking', 'bowl', 'bath', 'product', 'everything', 'bathroom', 'awesome', 'lemon', 'pancake', 'must', 'have', 'restaurant', 'one', 'best', 'pancake', 'ever'], ['andaz', 'nice', 'hotel', 'central', 'location', 'manhattan', 'hyatt', 'come', 'modern', 'hotel', 'comfortable', 'convenient', 'arrive', 'greeted', 'friendly', 'host', 'walk', 'desk', 'offering', 'beverage', 'one', 'bedroom', 'suite', 'accommodated', 'four', 'people', 'reasonably', 'well', 'plenty', 'closet', 'space', 'well', 'lit', 'floor', 'ceiling', 'window', 'actually', 'quiet', 'bathroom', 'large', 'nice', 'shower', 'bench', 'unique', 'low', 'spout', 'wash', 'foot', 'kitchenette', 'nice', 'touch', 'stocked', 'fridge', 'offering', 'complimentary', 'beverage', 'snack', 'dish', 'utensil', 'sink', 'dishwasher', 'microwave', 'daily', 'happy', 'hour', 'get', 'complimentary', 'decent', 'glass', 'wine', 'modest', 'lobby', 'lounge', 'bring', 'room', 'lobby', 'lounge', 'seating', 'one', 'table', 'chair', 'buy', 'food', 'adjacent', 'restaurant', 'one', 'suggestion', 'offer', 'selection', 'cheese', 'cracker', 'platter', 'go', 'wine', 'ordered', 'one', 'custom', 'made', 'worked', 'well', 'eat', 'hotel', 'restaurant', 'restaurant', 'lobby', 'pricey', 'breakfast', 'per', 'entree', 'get', 'decent', 'breakfast', 'within', 'block', 'two', 'hotel', 'say', 'hotel', 'designer', 'someone', 'picky', 'hotel', 'definitely', 'stay', 'highly', 'recommend']]\n"
     ]
    }
   ],
   "source": [
    "print(docs)"
   ]
  },
  {
   "cell_type": "code",
   "execution_count": 23,
   "metadata": {},
   "outputs": [
    {
     "name": "stdout",
     "output_type": "stream",
     "text": [
      "Number of unique tokens: 224\n"
     ]
    }
   ],
   "source": [
    "dictionary = corpora.Dictionary(docs)\n",
    "print ('Number of unique tokens:', len(dictionary))"
   ]
  },
  {
   "cell_type": "code",
   "execution_count": 24,
   "metadata": {
    "collapsed": true
   },
   "outputs": [],
   "source": [
    "# let's check each token's unique id\n",
    "#print (dictionary.token2id.items())"
   ]
  },
  {
   "cell_type": "markdown",
   "metadata": {},
   "source": [
    "We will do the following filtering once we work with a bigger portion of the dataset. If we run it now, everything is going to be filtered out because there is not enough data."
   ]
  },
  {
   "cell_type": "code",
   "execution_count": 25,
   "metadata": {
    "collapsed": true
   },
   "outputs": [],
   "source": [
    "# Filter out words that occur in less than 10 documents, or more than 50% of the documents.\n",
    "# dictionary.filter_extremes(no_below=10, no_above=0.5)\n",
    "# print ('Number of unique tokens:', len(dictionary))"
   ]
  },
  {
   "cell_type": "code",
   "execution_count": 26,
   "metadata": {
    "collapsed": true
   },
   "outputs": [],
   "source": [
    "# Bag-of-words representation of the documents -  list of (word_id, word_frequency) 2-tuples\n",
    "bow_corpus = [dictionary.doc2bow(d) for d in docs]"
   ]
  },
  {
   "cell_type": "markdown",
   "metadata": {},
   "source": [
    "## Step 3: Topic Modelling\n",
    "- Trainging a ***LDA model***\n",
    "- Finding the most ***representative words for each topic***\n",
    "- Finding the ***topics of each review*** in the dataset"
   ]
  },
  {
   "cell_type": "code",
   "execution_count": 27,
   "metadata": {
    "collapsed": true
   },
   "outputs": [],
   "source": [
    "ldamodel = models.ldamodel.LdaModel(bow_corpus, num_topics=5, id2word = dictionary, passes=50)"
   ]
  },
  {
   "cell_type": "code",
   "execution_count": 28,
   "metadata": {},
   "outputs": [
    {
     "data": {
      "text/plain": [
       "[(0,\n",
       "  [('room', 0.032666034802558003),\n",
       "   ('great', 0.02212957018889777),\n",
       "   ('bed', 0.016860113112863964),\n",
       "   ('fairway', 0.016860112797365507),\n",
       "   ('every', 0.016860110074789929),\n",
       "   ('location', 0.011591506827808655),\n",
       "   ('comfortable', 0.011591343095029063),\n",
       "   ('access', 0.011591323931938973),\n",
       "   ('night', 0.011591322672021438),\n",
       "   ('fresh', 0.011591321990934005)]),\n",
       " (1,\n",
       "  [('hotel', 0.036302700288964304),\n",
       "   ('one', 0.024592849762854595),\n",
       "   ('restaurant', 0.018738622860007537),\n",
       "   ('well', 0.01873588147885917),\n",
       "   ('nice', 0.018735206696161098),\n",
       "   ('lobby', 0.018735204094963057),\n",
       "   ('complimentary', 0.012881054754778786),\n",
       "   ('get', 0.012880858240358955),\n",
       "   ('beverage', 0.012880448773767548),\n",
       "   ('decent', 0.01288044830001764)]),\n",
       " (2,\n",
       "  [('room', 0.0044644058654565062),\n",
       "   ('restaurant', 0.0044643866945919689),\n",
       "   ('go', 0.0044643856152372322),\n",
       "   ('stay', 0.0044643853635704354),\n",
       "   ('one', 0.0044643549002090612),\n",
       "   ('great', 0.0044643490399696494),\n",
       "   ('suite', 0.0044643486256046002),\n",
       "   ('eat', 0.0044643427305390672),\n",
       "   ('central', 0.0044643416195207127),\n",
       "   ('hotel', 0.004464332348287795)]),\n",
       " (3,\n",
       "  [('restaurant', 0.0044643797735083226),\n",
       "   ('go', 0.0044643745879000838),\n",
       "   ('room', 0.0044643738254013798),\n",
       "   ('stay', 0.004464372965632085),\n",
       "   ('one', 0.0044643549352622394),\n",
       "   ('hotel', 0.0044643539017070119),\n",
       "   ('suite', 0.0044643440805451099),\n",
       "   ('central', 0.00446434185387276),\n",
       "   ('eat', 0.0044643405239017204),\n",
       "   ('great', 0.0044643331636774405)]),\n",
       " (4,\n",
       "  [('room', 0.056041779928981877),\n",
       "   ('bathroom', 0.023707883106184109),\n",
       "   ('north', 0.023706525582182707),\n",
       "   ('best', 0.023706522422937575),\n",
       "   ('different', 0.023706522065135995),\n",
       "   ('pancake', 0.023706519120101167),\n",
       "   ('go', 0.012932950278779588),\n",
       "   ('stay', 0.012932949202139794),\n",
       "   ('suite', 0.012931605340130107),\n",
       "   ('second', 0.012931409403395638)])]"
      ]
     },
     "execution_count": 28,
     "metadata": {},
     "output_type": "execute_result"
    }
   ],
   "source": [
    "#the most representative words for each topic \n",
    "ldamodel.show_topics(formatted=False, num_words=10)"
   ]
  },
  {
   "cell_type": "code",
   "execution_count": 29,
   "metadata": {},
   "outputs": [
    {
     "name": "stdout",
     "output_type": "stream",
     "text": [
      "The main topic of review 1 is 0 and its probability is  0.991973817594\n",
      "The main topic of review 2 is 0 and its probability is  0.982919546983\n",
      "The main topic of review 3 is 4 and its probability is  0.983627561502\n",
      "The main topic of review 4 is 1 and its probability is  0.993679926203\n"
     ]
    }
   ],
   "source": [
    "# the topics of each review in the dataset\n",
    "# I set the minimum probabulity to 0.5 because usually there was 1 topics with prob >0.9 and the rest were <0.01\n",
    "review_topics=[]\n",
    "for i in range(len(bow_corpus)):\n",
    "    review_topics.append(ldamodel.get_document_topics(bow_corpus[i], minimum_probability = 0.5))\n",
    "    print('The main topic of review', i+1, 'is', review_topics[i][0][0], 'and its probability is ', review_topics[i][0][1])"
   ]
  },
  {
   "cell_type": "markdown",
   "metadata": {},
   "source": [
    "### NEXT STEP: EMOTION ANALYSIS\n",
    "**Can we compute the emotion of each *review* by computing the emotion of its *topic* with highest probability?**\n",
    "\n",
    "For instance, the emotion of the **1st review** would be the emotion of **topic 0** (because its probability is 0.99197281812). To compute the emotion we would find the emotion of the *10* words representing that topic, so of ***room, great, stay, fairway, bed, every, location, comfortable, access, night***."
   ]
  },
  {
   "cell_type": "markdown",
   "metadata": {
    "collapsed": true
   },
   "source": [
    "**Shall we perform a review-based, sentence-based or phrase-based analysis?**\n",
    "\n",
    "Because there are not only *mixed reviews*, but also *mixed sentences*. "
   ]
  }
 ],
 "metadata": {
  "kernelspec": {
   "display_name": "Python 3",
   "language": "python",
   "name": "python3"
  },
  "language_info": {
   "codemirror_mode": {
    "name": "ipython",
    "version": 3
   },
   "file_extension": ".py",
   "mimetype": "text/x-python",
   "name": "python",
   "nbconvert_exporter": "python",
   "pygments_lexer": "ipython3",
   "version": "3.6.1"
  }
 },
 "nbformat": 4,
 "nbformat_minor": 2
}
