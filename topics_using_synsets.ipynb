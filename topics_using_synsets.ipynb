{
 "cells": [
  {
   "cell_type": "code",
   "execution_count": 131,
   "metadata": {
    "collapsed": false
   },
   "outputs": [],
   "source": [
    "import json\n",
    "from langdetect import detect\n",
    "\n",
    "import nltk\n",
    "\n",
    "from nltk.corpus import wordnet as wn\n",
    "\n",
    "from gensim import corpora, models\n",
    "\n",
    "from nltk.corpus import stopwords\n",
    "from nltk.tokenize import word_tokenize\n",
    "\n",
    "import re"
   ]
  },
  {
   "cell_type": "code",
   "execution_count": 195,
   "metadata": {
    "collapsed": true
   },
   "outputs": [],
   "source": [
    "TEXT_FILE = 'review_sentences.json'\n",
    "OUTPUT_FILE = 'topics.json'"
   ]
  },
  {
   "cell_type": "code",
   "execution_count": 136,
   "metadata": {
    "collapsed": true
   },
   "outputs": [],
   "source": [
    "# lemmatized filtered etc words from all reviews. list of lists\n",
    "reviews = []\n",
    "# Read normalized text\n",
    "with open(TEXT_FILE) as f:\n",
    "    text = json.load(f)\n",
    "    for i in range(len(text)):\n",
    "        reviews.append(text[i])"
   ]
  },
  {
   "cell_type": "code",
   "execution_count": 207,
   "metadata": {
    "collapsed": false
   },
   "outputs": [],
   "source": [
    "for review in reviews:\n",
    "    for i, sentence in enumerate(review):\n",
    "        if sentence == []:\n",
    "            review.remove(sentence)"
   ]
  },
  {
   "cell_type": "code",
   "execution_count": 208,
   "metadata": {
    "collapsed": false
   },
   "outputs": [],
   "source": [
    "cleanliness = []\n",
    "for ss in wn.synsets('clean'):\n",
    "    for lemma in ss.lemma_names():\n",
    "        cleanliness.append(lemma)"
   ]
  },
  {
   "cell_type": "code",
   "execution_count": 209,
   "metadata": {
    "collapsed": true
   },
   "outputs": [],
   "source": [
    "service = []\n",
    "for ss in wn.synsets('service'):\n",
    "    for lemma in ss.lemma_names():\n",
    "        service.append(lemma)\n",
    "for ss in wn.synsets('serve'):\n",
    "    for lemma in ss.lemma_names():\n",
    "        service.append(lemma)\n",
    "for ss in wn.synsets('food'):\n",
    "    for lemma in ss.lemma_names():\n",
    "        service.append(lemma)\n",
    "for ss in wn.synsets('breakfast'):\n",
    "    for lemma in ss.lemma_names():\n",
    "        service.append(lemma)\n",
    "for ss in wn.synsets('lunch'):\n",
    "    for lemma in ss.lemma_names():\n",
    "        service.append(lemma)\n",
    "for ss in wn.synsets('dinner'):\n",
    "    for lemma in ss.lemma_names():\n",
    "        service.append(lemma)"
   ]
  },
  {
   "cell_type": "code",
   "execution_count": 210,
   "metadata": {
    "collapsed": true
   },
   "outputs": [],
   "source": [
    "value = []\n",
    "for ss in wn.synsets('value'):\n",
    "    for lemma in ss.lemma_names():\n",
    "        value.append(lemma)\n",
    "for ss in wn.synsets('price'):\n",
    "    for lemma in ss.lemma_names():\n",
    "        value.append(lemma)"
   ]
  },
  {
   "cell_type": "code",
   "execution_count": 211,
   "metadata": {
    "collapsed": true
   },
   "outputs": [],
   "source": [
    "location = []\n",
    "for ss in wn.synsets('location'):\n",
    "    for lemma in ss.lemma_names():\n",
    "        location.append(lemma)\n",
    "for ss in wn.synsets('transportation'):\n",
    "    for lemma in ss.lemma_names():\n",
    "        location.append(lemma)"
   ]
  },
  {
   "cell_type": "code",
   "execution_count": 212,
   "metadata": {
    "collapsed": true
   },
   "outputs": [],
   "source": [
    "sleep = []\n",
    "for ss in wn.synsets('sleep'):\n",
    "    for lemma in ss.lemma_names():\n",
    "        sleep.append(lemma)\n",
    "for ss in wn.synsets('pillow'):\n",
    "    for lemma in ss.lemma_names():\n",
    "        sleep.append(lemma)"
   ]
  },
  {
   "cell_type": "code",
   "execution_count": 213,
   "metadata": {
    "collapsed": true
   },
   "outputs": [],
   "source": [
    "room = []\n",
    "for ss in wn.synsets('room'):\n",
    "    for lemma in ss.lemma_names():\n",
    "        room.append(lemma)\n",
    "for ss in wn.synsets('suite'):\n",
    "    for lemma in ss.lemma_names():\n",
    "        room.append(lemma)\n",
    "for ss in wn.synsets('bedroom'):\n",
    "    for lemma in ss.lemma_names():\n",
    "        room.append(lemma)"
   ]
  },
  {
   "cell_type": "code",
   "execution_count": 214,
   "metadata": {
    "collapsed": false
   },
   "outputs": [],
   "source": [
    "topic_all_reviews = []\n",
    "\n",
    "for review in reviews:\n",
    "    topic_review = []\n",
    "    for sentence in review:\n",
    "        topic_sentence = [0]*6\n",
    "        for word in sentence:\n",
    "            if word in cleanliness:\n",
    "                topic_sentence[0] += 1\n",
    "            if word in service:\n",
    "                topic_sentence[1] += 1\n",
    "            if word in value:\n",
    "                topic_sentence[2] += 1\n",
    "            if word in location:\n",
    "                topic_sentence[3] += 1\n",
    "            if word in sleep:\n",
    "                topic_sentence[4] += 1\n",
    "            if word in room:\n",
    "                topic_sentence[5] += 1\n",
    "        topic_review.append(topic_sentence)\n",
    "    topic_all_reviews.append(topic_review)"
   ]
  },
  {
   "cell_type": "code",
   "execution_count": 215,
   "metadata": {
    "collapsed": false
   },
   "outputs": [
    {
     "name": "stdout",
     "output_type": "stream",
     "text": [
      "9\n",
      "4\n",
      "9\n",
      "15\n"
     ]
    }
   ],
   "source": [
    "for review in topic_all_reviews:\n",
    "    print len(review)"
   ]
  },
  {
   "cell_type": "code",
   "execution_count": 216,
   "metadata": {
    "collapsed": false
   },
   "outputs": [],
   "source": [
    "topics_total = []\n",
    "\n",
    "for review in topic_all_reviews: \n",
    "    for sentence in review:\n",
    "        topics_total.append(sentence)"
   ]
  },
  {
   "cell_type": "code",
   "execution_count": 217,
   "metadata": {
    "collapsed": false
   },
   "outputs": [
    {
     "data": {
      "text/plain": [
       "[[0, 0, 0, 1, 0, 2],\n",
       " [0, 0, 0, 0, 0, 1],\n",
       " [0, 0, 0, 0, 0, 2],\n",
       " [1, 0, 0, 0, 0, 0],\n",
       " [1, 0, 0, 0, 0, 1],\n",
       " [0, 1, 0, 0, 0, 0],\n",
       " [0, 0, 1, 1, 0, 0],\n",
       " [1, 1, 0, 0, 0, 0],\n",
       " [0, 0, 0, 0, 0, 0],\n",
       " [0, 0, 0, 0, 0, 0],\n",
       " [0, 0, 0, 0, 0, 0],\n",
       " [0, 0, 0, 0, 0, 1],\n",
       " [0, 0, 0, 0, 0, 0],\n",
       " [0, 0, 0, 0, 0, 0],\n",
       " [0, 0, 0, 0, 0, 2],\n",
       " [0, 0, 0, 0, 0, 1],\n",
       " [0, 0, 0, 0, 0, 0],\n",
       " [0, 0, 0, 0, 0, 2],\n",
       " [0, 0, 0, 0, 0, 1],\n",
       " [0, 0, 0, 0, 0, 0],\n",
       " [0, 0, 0, 0, 0, 0],\n",
       " [0, 0, 0, 0, 0, 0],\n",
       " [0, 0, 0, 1, 0, 0],\n",
       " [0, 0, 0, 0, 0, 0],\n",
       " [0, 0, 0, 0, 0, 0],\n",
       " [0, 0, 0, 0, 0, 2],\n",
       " [0, 0, 0, 0, 0, 0],\n",
       " [0, 0, 0, 0, 0, 0],\n",
       " [0, 1, 0, 0, 0, 0],\n",
       " [0, 0, 0, 0, 0, 1],\n",
       " [0, 1, 0, 0, 0, 0],\n",
       " [0, 0, 0, 0, 0, 0],\n",
       " [0, 0, 0, 0, 0, 0],\n",
       " [0, 0, 0, 0, 0, 0],\n",
       " [0, 1, 0, 0, 0, 0],\n",
       " [0, 1, 0, 0, 0, 0],\n",
       " [0, 0, 0, 0, 0, 0]]"
      ]
     },
     "execution_count": 217,
     "metadata": {},
     "output_type": "execute_result"
    }
   ],
   "source": [
    "topics_total"
   ]
  },
  {
   "cell_type": "code",
   "execution_count": 218,
   "metadata": {
    "collapsed": false
   },
   "outputs": [
    {
     "name": "stdout",
     "output_type": "stream",
     "text": [
      "Successfully wrote 37 entries to file: topics.json\n"
     ]
    }
   ],
   "source": [
    "with open(OUTPUT_FILE, 'w') as f:\n",
    "    json.dump(topics_total, f)\n",
    "    print('Successfully wrote '+str(len(topics_total))+' entries to file: '+OUTPUT_FILE)"
   ]
  },
  {
   "cell_type": "code",
   "execution_count": null,
   "metadata": {
    "collapsed": true
   },
   "outputs": [],
   "source": []
  }
 ],
 "metadata": {
  "anaconda-cloud": {},
  "kernelspec": {
   "display_name": "Python [Root]",
   "language": "python",
   "name": "Python [Root]"
  },
  "language_info": {
   "codemirror_mode": {
    "name": "ipython",
    "version": 2
   },
   "file_extension": ".py",
   "mimetype": "text/x-python",
   "name": "python",
   "nbconvert_exporter": "python",
   "pygments_lexer": "ipython2",
   "version": "2.7.14"
  }
 },
 "nbformat": 4,
 "nbformat_minor": 0
}
