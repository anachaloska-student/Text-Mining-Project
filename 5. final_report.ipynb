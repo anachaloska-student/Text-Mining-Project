{
 "cells": [
  {
   "cell_type": "markdown",
   "metadata": {},
   "source": [
    "<div style=\"float:left;margin:5px 10px 5px 10px\" markdown=\"1\">\n",
    "    <img src=\"images/auc.png\" width=\"300\">\n",
    "</div>\n",
    "\n",
    "<div style=\"float:right;margin-top:10px\" markdown=\"1\">\n",
    "    <h3><i>Text Mining & Collective Intelligence</i></h3>\n",
    "</div>\n",
    "\n",
    "<br><br><br><br>\n",
    "\n",
    "<center><h3>Final Assignment</h3>\n",
    "\n",
    "<h2>Group Project Report</h2>\n",
    "\n",
    "<br>\n",
    "<h3>• 22/12/2017 •</h3>\n",
    "\n",
    "</center>\n",
    "\n",
    "<br>"
   ]
  },
  {
   "cell_type": "markdown",
   "metadata": {
    "slideshow": {
     "slide_type": "skip"
    }
   },
   "source": [
    "---"
   ]
  },
  {
   "cell_type": "markdown",
   "metadata": {},
   "source": [
    "#### Students' names: Ana Chaloska, Deniz Ovalioglu, Marit Hoefsloot"
   ]
  },
  {
   "cell_type": "markdown",
   "metadata": {},
   "source": [
    "#### Students' IDs: 11097183, 11096802,10792805"
   ]
  },
  {
   "cell_type": "markdown",
   "metadata": {
    "slideshow": {
     "slide_type": "skip"
    }
   },
   "source": [
    "---"
   ]
  },
  {
   "cell_type": "markdown",
   "metadata": {},
   "source": [
    "# The Final Report\n",
    "\n",
    "*Disclaimer: Our code of the algorithm developed and used by this research is written in 4 files. That differentiates the 4 main steps of the functioning of the algorithm. To improve the readability of this report, we did not include our code in it. To clarify each section we direct the reader to specific files in each section.* "
   ]
  },
  {
   "cell_type": "markdown",
   "metadata": {},
   "source": [
    "---- "
   ]
  },
  {
   "cell_type": "markdown",
   "metadata": {},
   "source": [
    "## Introduction (150 words minimum):"
   ]
  },
  {
   "cell_type": "markdown",
   "metadata": {},
   "source": [
    "- **Research Questions:**\n",
    "    1. What makes hotel guests particularly satisfied?\n",
    "    2. Do hotel ratings coincide with the content of the reviews?"
   ]
  },
  {
   "cell_type": "markdown",
   "metadata": {},
   "source": [
    "- **Relevance:**\n",
    "\n",
    "The hotel industry is a big sector that everyone is included either as a customer, hotel owner or hotel worker. Besides providing their guests with a safe space to spend their night, hotels are selling an experience to their customers. The key concept for the hotels to improve the experience is processing the feedback from the customers.. \n",
    "<br><br>\n",
    "Trip Advisor is an online platform where guests leave public reviews that is accessible to both hotels and customers. However, the quality of the customer feedback can vary and therefore make the review analysis harder for the hotels. For instance the emotion, quality of writing, and themes of the content can vary to a large extent from the numerical ratings assigned by the reviewer; hence, information from the text can potentially yield insights not indicated in the ratings for how hotels can improve their operations and better meet customer expectations (Inkpen et al., 2009).\n",
    "<br><br>\n",
    "In the analysis of this review, opinion mining is the key concept to explore useful insights. Opinion mining aids decision support by optimising the decision-making process, helps stakeholders to understand human preferences, aggregates opinions from many humans at once to assess a more general opinion (Zhai & Massung, 2016). When these techniques are applied to unstructured review data acquired from TripAdvisor, significant contributions can be made to the hotel industry.\n",
    "<br><br>\n",
    "According to *Customer Management IQ survey filled by customer management executives and leaders in 2017*, customer feedback is a priority for the hotel industry’s efforts toward continuous improvement. Nevertheless, a comprehensive characterisation of the customer experience remains difficult to achieve, in spite of (or perhaps because of) the immense volume of guest commentary on the web (Inkpen et al., 2009). To achieve this improvement, analysis of online review content presents an opportunity for greater clarity (Han et al., 2016)"
   ]
  },
  {
   "cell_type": "markdown",
   "metadata": {},
   "source": [
    "## Data Collection (250 words minimum + code): "
   ]
  },
  {
   "cell_type": "markdown",
   "metadata": {},
   "source": [
    "* **How were the data collected?**\n",
    "<br> A dataset composed of hotel reviews, which is available through __[the website of Carnegie Mellon School of Computer Science](http://www.cs.cmu.edu/~jiweil/html/hotel-review.html)__, was used in this study. Myle Ott, who works in the area of opinion analysis, collected this data through the API provided by TripAdvisor. "
   ]
  },
  {
   "cell_type": "markdown",
   "metadata": {},
   "source": [
    "* **How does your dataset look like? Describe its format, quality and so forth**\n",
    "<br>\n",
    "The data with customer hotel reviews is a text (.txt) file, in which each entry is a dictionary with ten key-value pairs (ratings, title, text, author, date_stayed, offering_id, num_helpful_votes, date, id, via_movile).  For our research only the keys *ratings* and *text* are relevant.\n",
    "    - *ratings* contains the numerical review (score) given by a hotel guest for each of the 6 topics: service, cleanliness, rooms, sleep quality, value, and location. The numerical scores are discrete values in the range from 0 to 5. \n",
    "    - *text* contains the textual review given by a hotel customer. Usually, the textual reviews contain information related to the guest's experinece during the hotel stay. "
   ]
  },
  {
   "cell_type": "markdown",
   "metadata": {},
   "source": [
    "- **Statistics on Dataset** \n",
    "<br>\n",
    "The dataset consists of 878561 reviews crawled from TripAdvisor. The file where the dataset is stored in has a size of 1.3 GB. Reviews of 4333 hotels from 4 different cities are included. The reviews are written in multiple languages including English, French, German, and Italian. However, in this study, only the reviews written in English are used. As mentioned above, the dataset contains more information than it is needed to answer the research questions targeted by this research. Therefore, only the related information (the numerical ratings and the textual reviews) will be used in the data processing. "
   ]
  },
  {
   "cell_type": "markdown",
   "metadata": {},
   "source": [
    "- **Example of review in the dataset (more extensive explanation od the data preprocessing is given in the Methodology and the file *parse_text_json_sentences.ipynb*)**"
   ]
  },
  {
   "cell_type": "code",
   "execution_count": 13,
   "metadata": {},
   "outputs": [
    {
     "name": "stdout",
     "output_type": "stream",
     "text": [
      "Example review of the dataset before preprocessing:\n",
      "\n",
      " {'ratings': {'service': 5.0, 'cleanliness': 5.0, 'overall': 5.0, 'value': 5.0, 'location': 5.0, 'sleep_quality': 5.0, 'rooms': 5.0}, 'title': '“Truly is \"Jewel of the Upper Wets Side\"”', 'text': 'Stayed in a king suite for 11 nights and yes it cots us a bit but we were happy with the standard of room, the location and the friendliness of the staff. Our room was on the 20th floor overlooking Broadway and the madhouse of the Fairway Market. Room was quite with no noise evident from the hallway or adjoining rooms. It was great to be able to open windows when we craved fresh rather than heated air. The beds, including the fold out sofa bed, were comfortable and the rooms were cleaned well. Wi-fi access worked like a dream with only one connectivity issue on our first night and this was promptly responded to with a call from the service provider to ensure that all was well. The location close to the 72nd Street subway station is great and the complimentary umbrellas on the drizzly days were greatly appreciated. It is fabulous to have the kitchen with cooking facilities and the access to a whole range of fresh foods directly across the road at Fairway.\\nThis is the second time that members of the party have stayed at the Beacon and it will certainly be our hotel of choice for future visits.', 'author': {'username': 'Papa_Panda', 'num_cities': 22, 'num_helpful_votes': 12, 'num_reviews': 29, 'num_type_reviews': 24, 'id': '8C0B42FF3C0FA366A21CFD785302A032', 'location': 'Gold Coast'}, 'date_stayed': 'December 2012', 'offering_id': 93338, 'num_helpful_votes': 0, 'date': 'December 17, 2012', 'id': 147643103, 'via_mobile': False}\n"
     ]
    }
   ],
   "source": [
    "import json\n",
    "reviews = []\n",
    "with open('review_copy.txt', 'rb') as f:\n",
    "    for line in f:\n",
    "        data = json.loads(line)\n",
    "        reviews.append(data)\n",
    "        \n",
    "print('Example review of the dataset before preprocessing:\\n\\n', reviews[0])"
   ]
  },
  {
   "cell_type": "markdown",
   "metadata": {},
   "source": [
    "## The Application (500 words minimum + code):"
   ]
  },
  {
   "cell_type": "markdown",
   "metadata": {},
   "source": [
    "- **How does you algorightm work? Give a gentle description of your code. Report your working code along with its output**\n",
    " \n",
    "    ***Methodology***\n",
    "\n",
    "    We have four separate files that together provide the code for the analysis of our project: \n",
    "    1.    Preprocessing the data: parse_text_json_sentences.ipynb;\n",
    "    2.    Emotion analysis: get_data_sentences.ipynb;\n",
    "    3.    Sentence based analysis: analyse_data_sentences.ipynb;\n",
    "    4.    Final results and visualization: final_analysis.ipynb.\n",
    "    \n",
    "    *Below is a detailed description of how each of these files' contribution to the research. We did not include any code here in order to make this report clear to read. Please refer to the relevant files to see the code.*\n",
    "    \n",
    "\n",
    "1. **Preprocessing the data** <br>\n",
    "This section of the code is made to retrieve the relevant information from the reviews of the given dataset. First, we start by removing unnecessary information from the data, such as the title, author, date_stayed, and identification numbers from the reviews. We keep the numerical, 1-5 star-based, ratings, and the textual comments, further known as reviews. To these reviews we apply several techniques to obtain a more universal data set, such as lowercasing; removing reviews written in a language other than English; removing reviews with incomplete numerical ratings (where the length of the dictionary called ‘rating’ is shorter than 7). Furthermore, we collected the textual reviews of all the entries in the dataset in one list, this is the list we will be using for further analysis, and is saved in the file 'review_sentences.json'. Additionally, we saved the numerical ratings, and calculate the average numerical ratings for each of the topics (cleanliness, service, rooms, location, overall, sleep_quality, value). \n",
    "\n",
    "2. **Emotional Analysis** <br>\n",
    "This file reads the 'review_sentences.json' text file and assigns values for each emotion associated with each word in the reviews of the dataset. First, we create a vocabulary, using the 'NRC-Emotion-Lexicon-v0.92-English.csv' lexicon. Second, we find the eight emotions we are discussing from the ‘categories.json’ file that goes together with the lexicon. Third, we check for each word in the review whether it matches a word in the vocabulary, and we add that word to our data list. This list contains 11 columns, namely: English word, anger, fear, anticipation, trust, surprise, sadness, joy, disgust, sentence (index of the sentence the word is part of), review (index of review the word is part of). Finally, we create a CSV file called 'output_data_sentences.csv' with all output data.\n",
    "\n",
    "3. **Sentence-based Analysis** <br>\n",
    "This code exists out of two separate parts, that both give numerical values to each sentence, one based on the emotions and the other based on the topics of the sentence. First, for the emotional part, we create a list of lists with sentences, with in each list a section of the 'output_data_sentences.csv' file. As this file contains a binary 1 or 0 in each column for each word in the reviews, we split the words into sentences by looking at the column ‘sentence’. In this process, we also check whether the sentences are not empty. With this list, we assign a score for each of our eight emotions to each sentence. We do this by summing the number of times an angry word, for example, is used in each sentence, and dividing that by the number of words in the sentence. This is saved in ‘analysis_output_sentences.json’ for further use. Furthermore, for the topics part of this code, we find all words related to our six topics (cleanliness, service, value, location, sleep_quality, and room), by adding the synonyms to a list by using WordNet Synsets. We create a matrix of zeros, with the index of the sentences as rows and the index of the six topics as columns. Then, for each sentence, we check whether one of the synonyms is mentioned in the sentence; if so, we add the value 1 to that specific (row x column) combination. This is all saved in the ‘topics.json’ file.\n",
    "\n",
    "4. **Results and Visualisation**<br>\n",
    "This code reads out the ‘topics.json’ file with the topics per sentences, and the ‘analysis_output_sentences.json’ file with the emotion per sentences. We create two matrices that give the values for emotions and topics associated with each sentence. To compute the overall emotion value for each topic, we compute the dot product of each of the columns of the topics matrix and the entire emotions matrix. We then plot the values for the overall emotions associated with each topic in 6 different bar plots. Additionally, to compute the overall topic value for each emotion, we compute the dot product of each of the columns of the emotions matrix and the entire topics matrix. Finally, we plot the values for the overall topics associated with each emotion in 8 different bar plots. Specific plots created in this file, together with the Average Rating bar plot from the Preprocessing code (‘parse_text_json_sentences.ipynb’), are used in the analysis of the results of this research and in answering the targeted research questions (explained in the following section)."
   ]
  },
  {
   "cell_type": "markdown",
   "metadata": {
    "collapsed": true
   },
   "source": [
    "## Results (150 words minimum):\n"
   ]
  },
  {
   "cell_type": "markdown",
   "metadata": {},
   "source": [
    "- **Results ** \n",
    "\n",
    "We intuitively divided  the emotions used in the research in sets of negative, ambiguous and positive emotions in the following way:\n",
    "<br> **Negative**: Disgust, Anger, Sadness, Fear\n",
    "<br> **Ambiguous**: Surprise, Anticipation\n",
    "<br> **Positive**: Joy, trust\n",
    "\n",
    "\n",
    "   - To answer the first research question (*What makes hotel guests particularly satisfied?*), we referred to the overall scores of the topics for the positive emotions (trust and joy). From the overall scores of the topics for joy and trust, we concluded that cleanliness, service, and rooms have the highest values and thus these induce both most joy and most trust in the costumers. Thus, **cleanliness, service, and rooms are the attributes of a hotel that are most influential for guests' satisfaction**.\n",
    "\n",
    "    *Please refer to the plots of Joy and Trust in the file final_analysis.ipynb for a vizualization of these results*\n",
    "\n",
    "\n",
    "  - To answer the second research question (*Do hotel ratings coincide with the content of the reviews?*), we compared the average numerical scores with the overall scores of the topics for the positive emotions. Among the topics with highest average ratings cleanliness, service, rooms are included but so is sleep quality. That means that **the numerical ratings do not completely relate to the review texts**. Thus the numerical ratings are not entirely representative of the quality of a hotel because the text reviews give a more extensive evaluation and make a better distinction between the most important attributes. Most likely, this is caused by the fact that numerical ratings have discrete values (in the range from 0 to 5) while textual reviews enable the customers to use a wider range of 'values' for their opinions on each of the attributes of a hotel. Thus, the distribution of the values induced by textual reviews can be considered as more continuous compared to the distribution of values of the numerical ratings. Namely, since the values of the numerical ratings are less continuous, the average value (score) of each of the topics varies less than the scores induced by textual reviews. Indeed, by looking at the bar plot of average numerical rating, it is noticable that the bars have much more similar heights than the ones percieved in the plots of joy and trust.\n",
    "  \n",
    "  *Please refer to the plots of Joy and Trust in the file final_analysis.ipynb and the plot of Average ratings per topic i the file parse_text_json_sentences.ipynb for a vizualization of these results*\n",
    "  \n",
    "  \n",
    "  - Additionally, we also analyzied the overall scores of the topics for the negative emotions (disgust, anger, sadness, fear). From the overall scores of the topics for disgust, anger, sadness and fear, we concluded that room is the common topic that is constantly high in all of the emotions. The scores for cleanliness and service vary among plots, but always follow the scores of room. This shows that guests express most emotions in these topics (even when negative). This conclusion strenghtens the answer to the first research question. Namely, rooms, cleanliness and service are the topic mostly textually reviewed by hotel guests, and thus **rooms, cleanliness and service are the attributes of a hotel that are most influential for guests' satisfaction**. \n",
    "  \n",
    "  *Please refer to the plots of Disgust, Anger, Sadness and Fear in the file final_analysis.ipynb for a vizualization of these results*\n",
    "  \n",
    "  \n",
    "  - Finally, we also analyzed the comparison between average numerical scores with the overall scores of the topics for the negative emotions. While the topic with the lowest average numerical score is location, the topics for which these emotions have the significantly lowest overall scores are not limited to location, but intercangably include sleep_squality and value as well. However, the averge numerical scores for sleep_quality and value are almost equal to the ones of cleanliness and rooms. Thus, although the numerical ratings show that hotel guests are mostly dissatisfied with the location of the hotels, the textual data implies that overall the sleep quality and the values of the hotels are not satisfactory enough. This once again canfirms that **the numerical ratings do not completely relate to the review texts and are not fully representative of the reality**."
   ]
  },
  {
   "attachments": {},
   "cell_type": "markdown",
   "metadata": {},
   "source": [
    "- ** Limitations **\n",
    "<br><br>\n",
    "Our algorithm only processes the comments in English, yet there was a significant number of reviews in other languages such as French, German, and Spanish. If the implementation of the code is extended with the inclusion of other lexicons, the probability of excluding vital reviews would be decreased meaning that, the content we produced could be more inclusive and thus the results would be a better representative of the real world.\n",
    "<br><br>\n",
    "The other limitation we observed in our code is related to our application of WordNet. Initially, we retrieveed the synsets for the topics (the rating categories service, cleanliness, rooms, sleep quality, value, and location) using WordNet. However, the retrieved synsets did not seem inclusive enough because the synsets did not contain a sufficient number of synosyms relevant specifically for hotel reviews. A possible reason for that might be the fact that WordNet is not a network specialized for hotels, and thus gave us very broad synsets. Therefore, we created the synsets with a rather manual method. We checked online dictionaries to find concepts related to hotels for the topics (service, cleanliness, rooms, sleep quality, value, and location) and manually added them to our code. For instance, for the topic *service*, instead of using only the synsets related to the node *service*, we also used the ones related to the nodes *serve*, *food*, *breakfast*, *lunch* and *dinner*. Alhough this lead to more descriptive results, it might have caused some sort of inconsistency because of a possible bias that might have occured when manually picking the concepts. \n",
    "<br><br>\n",
    "Finally, due to the very large size of the dataset, the portion of the dataset we could run our laptops was approximately 0.25% of the complete data set of 878561 reviews. Thus, running the algorithm on the entire dataset would lead to results even more representative of the reality. So, in a nutshell, although our results are not inaccurate, more accurate results could be obtained by running the algorithm on the whole dataset. However, since the reviews included in the analysis vere randomly selected, we assume that our results still do not differ much from the reality. *This is not per se a limitation of the algorithm itself because the algorithm would be able to run on the entire dataset, but in a much longer time. Thus, although it was more of a limitation of the equipment (laptops) used for this research, we believe it is worth metioning here because it did limit the accuracy of the performed research. *"
   ]
  },
  {
   "cell_type": "markdown",
   "metadata": {},
   "source": [
    "## Conclusion (100 words minimum):"
   ]
  },
  {
   "cell_type": "markdown",
   "metadata": {
    "collapsed": true
   },
   "source": [
    "* **Achievement, lesson learned...**\n",
    "<br>\n",
    "With this research we succeeded at answering the targeted research questions. Moreover, our hypothesis were roughly met. Namely, we achieved the following conclusions:\n",
    "    1. **Cleanliness, service, and rooms are the attributes of a hotel that are most influential for guests' satisfaction, and thus are the attributes that *make hotels guests satisfied*. To attact more customers, hotels should make sure they provde a high quality of these attributes**.\n",
    "    2. **The numerical ratings do not completely conincide with the review texts and are not fully representative of the reality. To fully undestrand their guests' satisfaction and experience from the hotels' services, hotels should derive data from the textual reviews written by the guests, rather than fully relying on their numerical ratings.**\n",
    "\n",
    "\n",
    "* **Future work**\n",
    "<br>\n",
    "    1. Future work could make use of the emotions that we classified as \"Ambiguous\", namely anticipation and surprise. The reason we classified them as ambiguous was that these could be induced both in positive and negative situations. Even though we did not use these emotions in our analysis, their overall scores might be significant. Future researchers would be able to make use of our code and results to derive even more detailed conclusions. \n",
    "    2. Future work could also make use of the 8 plots that we did not use for our analysis, namely the overall scores of the emotions for topics. Those could be used to more specifically approach each of the emotions related to each of the topics and to answering the question \"How satistied are hotel guests?\". Thus, the results of this research could contribute to performing another research with a different research question. "
   ]
  },
  {
   "cell_type": "markdown",
   "metadata": {
    "slideshow": {
     "slide_type": "skip"
    }
   },
   "source": [
    "---"
   ]
  }
 ],
 "metadata": {
  "kernelspec": {
   "display_name": "Python 3",
   "language": "python",
   "name": "python3"
  },
  "language_info": {
   "codemirror_mode": {
    "name": "ipython",
    "version": 3
   },
   "file_extension": ".py",
   "mimetype": "text/x-python",
   "name": "python",
   "nbconvert_exporter": "python",
   "pygments_lexer": "ipython3",
   "version": "3.6.1"
  }
 },
 "nbformat": 4,
 "nbformat_minor": 2
}
