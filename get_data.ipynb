{
 "cells": [
  {
   "cell_type": "code",
   "execution_count": null,
   "metadata": {
    "collapsed": true
   },
   "outputs": [],
   "source": [
    "# -*- coding: utf-8 -*-\n",
    "\n",
    "import csv\n",
    "import json\n",
    "import sys"
   ]
  },
  {
   "cell_type": "code",
   "execution_count": null,
   "metadata": {
    "collapsed": true
   },
   "outputs": [],
   "source": [
    "# Files\n",
    "LEXICON_FILE = 'NRC-Emotion-Lexicon-v0.92-English.csv'\n",
    "CATEGORIES_FILE = 'categories.json'\n",
    "\n",
    "TEXT_FILE = 'review_normal.json'\n",
    "DATA_FILE = 'output_data.csv'"
   ]
  },
  {
   "cell_type": "code",
   "execution_count": 1,
   "metadata": {
    "collapsed": true
   },
   "outputs": [],
   "source": [
    "# Init\n",
    "vocabulary = []\n",
    "words = []\n",
    "categories = {}\n",
    "category_headers = []\n",
    "text = {}\n",
    "data = []\n",
    "chapters = []"
   ]
  },
  {
   "cell_type": "code",
   "execution_count": 2,
   "metadata": {},
   "outputs": [],
   "source": [
    "# Read vocabulary\n",
    "with open(LEXICON_FILE, 'r') as f:\n",
    "    rows = csv.reader(f, delimiter=',')\n",
    "    headers = next(rows, None) # remove header\n",
    "    for row in rows:\n",
    "        entry = {}\n",
    "        for i, h in enumerate(headers):\n",
    "            entry[h] = row[i]\n",
    "        vocabulary.append(entry)\n",
    "    #print (vocabulary)\n",
    "    words = [v['ï»¿english word'] for v in vocabulary]"
   ]
  },
  {
   "cell_type": "code",
   "execution_count": 3,
   "metadata": {
    "collapsed": true
   },
   "outputs": [],
   "source": [
    "# Read categories\n",
    "with open(CATEGORIES_FILE) as f:\n",
    "    categories = json.load(f)\n",
    "    emotions = categories['emotion']"
   ]
  },
  {
   "cell_type": "code",
   "execution_count": 4,
   "metadata": {},
   "outputs": [],
   "source": [
    "# lemmatized filtered etc words from all reviews \n",
    "# list of lists\n",
    "reviews = []\n",
    "# Read normalized text\n",
    "with open(TEXT_FILE) as f:\n",
    "    text = json.load(f)\n",
    "    for i in range(len(text)):\n",
    "        reviews.append(text[i])"
   ]
  },
  {
   "cell_type": "code",
   "execution_count": 5,
   "metadata": {
    "collapsed": true
   },
   "outputs": [],
   "source": [
    "# Check if word matches any lexicons\n",
    "def addData(word, review):\n",
    "    global data\n",
    "    global vocabulary\n",
    "    global emotions\n",
    "    global words\n",
    "\n",
    "    match = -1\n",
    "    for i,w in enumerate(words):\n",
    "        if w==word:\n",
    "            match = i\n",
    "            break\n",
    "\n",
    "    if match >= 0:\n",
    "        for item in vocabulary:\n",
    "            if item['ï»¿english word'] == word:\n",
    "                entry = item\n",
    "                break\n",
    "            else: \n",
    "                continue\n",
    "        row = [None]*10\n",
    "        i = 0\n",
    "        row[i] = entry['\\xef\\xbb\\xbfenglish word']\n",
    "        for emotion in emotions:\n",
    "            i += 1\n",
    "            if entry[emotion]:\n",
    "                row[i] = entry[emotion]\n",
    "            else:\n",
    "                row[i] = -1\n",
    "        row[i+1] = review\n",
    "        data.append(row)"
   ]
  },
  {
   "cell_type": "code",
   "execution_count": 6,
   "metadata": {},
   "outputs": [],
   "source": [
    "# Read each review\n",
    "data = []\n",
    "for i, review in enumerate(reviews):\n",
    "  #  wordss = review.split(' ')\n",
    "    for word in review:\n",
    "        addData(word, i)"
   ]
  },
  {
   "cell_type": "code",
   "execution_count": 7,
   "metadata": {},
   "outputs": [],
   "source": [
    "import os\n",
    "if os.path.isfile('output_data.csv'):\n",
    "    os.remove('output_data.csv')"
   ]
  },
  {
   "cell_type": "code",
   "execution_count": 8,
   "metadata": {},
   "outputs": [
    {
     "name": "stdout",
     "output_type": "stream",
     "text": [
      "Successfully wrote 205 entries to file: output_data.csv\n"
     ]
    }
   ],
   "source": [
    "# Output data as csv\n",
    "with open(DATA_FILE, 'w') as f:\n",
    "    cw = csv.writer(f)\n",
    "    headers = ['english word']\n",
    "    for emotion in emotions:\n",
    "        headers.append(emotion)\n",
    "    headers.append(u'review')\n",
    "    cw.writerow(headers)\n",
    "    for row in data:\n",
    "        cw.writerow(row)\n",
    "    print('Successfully wrote '+str(len(data))+' entries to file: '+DATA_FILE)"
   ]
  },
  {
   "cell_type": "code",
   "execution_count": null,
   "metadata": {
    "collapsed": true
   },
   "outputs": [],
   "source": []
  }
 ],
 "metadata": {
  "kernelspec": {
   "display_name": "Python 3",
   "language": "python",
   "name": "python3"
  },
  "language_info": {
   "codemirror_mode": {
    "name": "ipython",
    "version": 3
   },
   "file_extension": ".py",
   "mimetype": "text/x-python",
   "name": "python",
   "nbconvert_exporter": "python",
   "pygments_lexer": "ipython3",
   "version": "3.6.1"
  }
 },
 "nbformat": 4,
 "nbformat_minor": 1
}
