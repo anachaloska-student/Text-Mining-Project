{
 "cells": [
  {
   "cell_type": "markdown",
   "metadata": {},
   "source": [
    "<div style=\"float:left;margin:5px 10px 5px 10px\" markdown=\"1\">\n",
    "    <img src=\"images/auc.png\" width=\"300\">\n",
    "</div>\n",
    "\n",
    "<div style=\"float:right;margin-top:10px\" markdown=\"1\">\n",
    "    <h3><i>Text Mining & Collective Intelligence</i></h3>\n",
    "</div>\n",
    "\n",
    "<br><br><br><br>\n",
    "\n",
    "<center><h3>Final Assignment</h3>\n",
    "\n",
    "<h2>Group Project Report</h2>\n",
    "\n",
    "<br>\n",
    "<h3>• 22/12/2017 •</h3>\n",
    "\n",
    "</center>\n",
    "\n",
    "<br>"
   ]
  },
  {
   "cell_type": "markdown",
   "metadata": {
    "slideshow": {
     "slide_type": "skip"
    }
   },
   "source": [
    "---"
   ]
  },
  {
   "cell_type": "markdown",
   "metadata": {},
   "source": [
    "#### Students' names: Ana Chaloska, Deniz Ovalioglu, Marit Hoefsloot"
   ]
  },
  {
   "cell_type": "markdown",
   "metadata": {},
   "source": [
    "#### Students' IDs: 11097183, 11096802,10792805"
   ]
  },
  {
   "cell_type": "markdown",
   "metadata": {
    "slideshow": {
     "slide_type": "skip"
    }
   },
   "source": [
    "---"
   ]
  },
  {
   "cell_type": "markdown",
   "metadata": {},
   "source": [
    "### Instructions"
   ]
  },
  {
   "cell_type": "markdown",
   "metadata": {},
   "source": [
    "#### The Final Project"
   ]
  },
  {
   "cell_type": "markdown",
   "metadata": {},
   "source": [
    "In the final project each group is required to implement an algorithm to address a text mining issue of interest.\n",
    "\n",
    "Each group should report its findings:\n",
    "\n",
    "\n",
    "- to the instructor: by describing their experiment **in this notebook** and mailing it **before the beginning of the last lesson** of the course (See below for the requirement of the final report)\n",
    "\n",
    "\n",
    "- to the other groups: by preparing a **10 minutes** presentation to be held in class. The presentation will be followed by questions"
   ]
  },
  {
   "cell_type": "markdown",
   "metadata": {},
   "source": [
    "#### The Final Report\n",
    "\n",
    "In the final report each group should answer to the following questions:\n",
    "\n",
    "**Introduction** (150 words minimum):\n",
    "* what is your research question?\n",
    "* why is it relevant?"
   ]
  },
  {
   "cell_type": "markdown",
   "metadata": {},
   "source": [
    "### Research Questions:\n",
    "\n",
    "1. What makes hotel guests particularly satisfied?\n",
    "\n",
    "2. Do hotel ratings coincide with the content of the reviews?\n",
    "\n",
    "### Relevance:\n",
    "\n",
    "The hotel industry is a big sector that everyone is included either as a customer, hotel owner or hotel worker. Besides providing their guests with a safe space to spend their night, hotels are selling an experience to their customers. The key concept for the hotels to improve the experience is processing the feedback from the customer. \n",
    "<br><br>\n",
    "Trip Advisor is an online platform where guests leave public reviews that is accessible to both hotels and customers. However, the quality of the customer feedback can vary and therefore make the review analysis harder for the hotels. For instance the emotion, quality of writing, and themes of the content can vary to a large extent from the numerical ratings assigned by the reviewer; hence, information from the text can potentially yield insights not indicated in the ratings for how hotels can improve their operations and better meet customer expectations (Inkpen et al., 2009).\n",
    "<br><br>\n",
    "In the analysis of this review, opinion mining is the key concept to explore useful insights. Opinion mining aids decision support by optimising the decision-making process, helps stakeholders to understand human preferences, aggregates opinions from many humans at once to assess a more general opinion (Zhai & Massung, 2016). When these techniques are applied to unstructured review data acquired from TripAdvisor, significant contributions can be made to the hotel industry.\n",
    "<br><br>\n",
    "According to *Customer Management IQ survey filled by customer management executives and leaders in 2017*, customer feedback is a priority for the hotel industry’s efforts toward continuous improvement. Nevertheless, a comprehensive characterisation of the customer experience remains difficult to achieve, in spite of (or perhaps because of) the immense volume of guest commentary on the web (Inkpen et al., 2009). To achieve this improvement, analysis of online review content presents an opportunity for greater clarity (Han et al., 2016)"
   ]
  },
  {
   "cell_type": "markdown",
   "metadata": {},
   "source": [
    "**Data Collection** (250 words minimum + code):\n",
    "* how were the data collected?\n",
    "* how does your dataset look like? Describe its format, quality and so forth\n",
    "* display some statistics on your dataset (size, meaningful variables distributions...)\n",
    "* submit your data together with your notebook "
   ]
  },
  {
   "cell_type": "markdown",
   "metadata": {},
   "source": [
    "### Dataset: \n",
    "<br> A dataset composed of hotel reviews, which is available through __[the website of Carnegie Mellon School of Computer Science](http://www.cs.cmu.edu/~jiweil/html/hotel-review.html)__, was used in this study.\n",
    "\n",
    "<br>\n",
    "The data with review entries is a txt file, in which each entry is a dictionary with ten key-value pairs. Some of these pairs, such as ratings and author, has dictionaries as values as well. The value of the ratings consists of key-value pairs between service, cleanliness, value, location, sleep quality, and rooms on a scale from 1 to 5. Furthermore, review descriptions include title, text, and author information and review information including ID, location, and date.\n",
    "\n",
    "<br>\n",
    "The dataset consists of 878561 reviews crawled from TripAdvisor and is 1.3 GB. Reviews of 4333 hotels from 4 different cities are included. The reviews are written in multiple languages including French, German, and Italian. However, in this study, only the reviews written in English are used."
   ]
  },
  {
   "cell_type": "markdown",
   "metadata": {},
   "source": [
    "**The Application** (500 words minimum + code):\n",
    "* how does you algorightm work? Give a gentle description of your code\n",
    "* report your working code along with its output"
   ]
  },
  {
   "cell_type": "markdown",
   "metadata": {
    "collapsed": true
   },
   "source": [
    "### Methodology\n",
    "We have four separate files that together provide the code for the analysis of our project; \n",
    "1.\tPreprocessing the data: parse_text_json_sentences.ipynb;\n",
    "2.\tEmotion analysis: get_data_sentences.ipynb;\n",
    "3.\tSentence based analysis: analyse_data_sentences.ipynb;\n",
    "4.\tFinal results and visualization: final_analysis.ipynb.\n",
    "\n",
    "<br>\n",
    "1.\tPreprocessing the data <br>\n",
    "This section of the code is made to retrieve the textual reviews from the given dataset. First, we start by removing unnecessary information from the data, such as the title, author, date_stayed, and identification numbers from the reviews. We keep the numerical, 1-5 star-based, ratings, and the textual comments, further known as reviews. To these reviews we apply several techniques to obtain a more universal data set, such as lowercasing; removing reviews written in a language other than English; removing reviews with incomplete numerical ratings (where the length the dictionary called ‘rating’ is shorter than 7). Furthermore, we collected the textual reviews of all the entries in the dataset in one list, this is the list we will be using for further analysis, and is saved in the file 'review_sentences.json'. Additionally, we saved the numerical ratings, and calculate the average numerical ratings for each of the topics (cleanliness, service, rooms, location, overall, sleep_quality, value). \n",
    "\n",
    "2. Emotional Analysis <br>\n",
    "This file reads the 'review_sentences.json' text file and assigns values for each emotion associated with each word in the reviews of the dataset. First, we create a vocabulary, using the 'NRC-Emotion-Lexicon-v0.92-English.csv' lexicon. Second, we find the 8 emotions we are discussing from the ‘categories.json’ file that goes together with the lexicon. Third, we check for each word in the review whether it matches a word in the vocabulary, and we add that word to our data list. This list contains 11 columns, namely: english word, anger, fear, anticipation, trust, surprise, sadness, joy, disgust, sentence (index of the sentence the word is part of), review (index of review the word is part of). Finally, we create a csv file called 'output_data_sentences.csv' with all output data.\n",
    "\n",
    "3. Sentence-based analysis <br>\n",
    "This code exists out of two separate parts, that both give numerical values to each sentence, one based on the emotions and the other based on the topics of the sentence. First for the emotional part, we create a list of lists with sentences, with in each list a section of the 'output_data_sentences.csv' file. As this file contains a binary 1 or 0 in each column for each word in the reviews, we split the words into sentences by looking at the column ‘sentence’. In this process we also check whether the sentences are not empty. With this list, we can assign a score for each of our 8 emotions to each sentence. We do this by summing the amount of times an angry word, for example, is used in each sentence, and dividing that by the amount of words in the sentence. This is saved in ‘analysis_output_sentences.json’ for further use.\n",
    "Furthermore, for the topics part of this code, we find all words related to our 6 topics (cleanliness, service, value, location, sleep_quality, and room), by adding the synonyms to a list by using WordNet Synsets. We create a matrix of zeros, with the index of the sentences as rows and the index of the 6 topics as columns. Then, for each sentence, we check whether one of the synonyms is mentioned in the sentence; if so, we add the value 1 to that specific (row x column) combination. This is all saved in the ‘topics.json’ file.\n",
    "\n",
    "4. Results and visualisation <br>\n",
    "This code reads out the ‘topics.json’ file with the topics per sentences, and the ‘analysis_output_sentences.json’ file with the emotion per sentences. We create two matrices that give the values for emotions and topics associated with each sentence. Additionally, we compute the dot product of the each of the columns of the topics matrix and the entire emotions matrix. Finally, we plot the values for the overall emotions associated with each topic in 6 different bar plots which, together with the Average Ratings bar plot from the Preprocessing code (‘parse_text_json_sentences.ipynb’), are used in the analysis of the results of this research and in answering the targeted research questions.\n"
   ]
  },
  {
   "cell_type": "markdown",
   "metadata": {},
   "source": [
    "** Results** (150 words minimum):\n",
    "* evaluate your algorithm and discuss its limitations"
   ]
  },
  {
   "cell_type": "code",
   "execution_count": null,
   "metadata": {
    "collapsed": true
   },
   "outputs": [],
   "source": []
  },
  {
   "cell_type": "markdown",
   "metadata": {},
   "source": [
    "** Conclusion** (100 words minimum):\n",
    "* achievement, lesson learned...\n",
    "* how would you improve you system? \n",
    "* future work?"
   ]
  },
  {
   "cell_type": "code",
   "execution_count": null,
   "metadata": {
    "collapsed": true
   },
   "outputs": [],
   "source": []
  },
  {
   "cell_type": "markdown",
   "metadata": {
    "slideshow": {
     "slide_type": "skip"
    }
   },
   "source": [
    "---"
   ]
  },
  {
   "cell_type": "code",
   "execution_count": null,
   "metadata": {
    "collapsed": true
   },
   "outputs": [],
   "source": []
  }
 ],
 "metadata": {
  "kernelspec": {
   "display_name": "Python [Root]",
   "language": "python",
   "name": "Python [Root]"
  },
  "language_info": {
   "codemirror_mode": {
    "name": "ipython",
    "version": 2
   },
   "file_extension": ".py",
   "mimetype": "text/x-python",
   "name": "python",
   "nbconvert_exporter": "python",
   "pygments_lexer": "ipython2",
   "version": "2.7.14"
  }
 },
 "nbformat": 4,
 "nbformat_minor": 2
}
