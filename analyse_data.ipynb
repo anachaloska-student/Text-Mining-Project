{
 "cells": [
  {
   "cell_type": "code",
   "execution_count": 54,
   "metadata": {
    "collapsed": true
   },
   "outputs": [],
   "source": [
    "# -*- coding: utf-8 -*-\n",
    "\n",
    "import csv\n",
    "import json\n",
    "import sys\n",
    "import numpy as np"
   ]
  },
  {
   "cell_type": "code",
   "execution_count": 2,
   "metadata": {
    "collapsed": true
   },
   "outputs": [],
   "source": [
    "# Files and inputs\n",
    "CATEGORIES_FILE = 'categories.json'\n",
    "DATA_FILE = 'output_data.csv'\n",
    "ANALYSIS_FILE = 'output_csv.csv'\n",
    "WORD_BUFFER_SIZE = 400\n",
    "WORD_OFFSET = 200"
   ]
  },
  {
   "cell_type": "code",
   "execution_count": 3,
   "metadata": {
    "collapsed": true
   },
   "outputs": [],
   "source": [
    "# Init\n",
    "categories = {}\n",
    "input_data = []\n",
    "max_values = {}\n",
    "data = []"
   ]
  },
  {
   "cell_type": "code",
   "execution_count": 4,
   "metadata": {
    "collapsed": true
   },
   "outputs": [],
   "source": [
    "# Read categories\n",
    "with open(CATEGORIES_FILE) as f:\n",
    "    categories = json.load(f)\n",
    "    emotions = categories['emotion']"
   ]
  },
  {
   "cell_type": "code",
   "execution_count": 5,
   "metadata": {},
   "outputs": [
    {
     "name": "stdout",
     "output_type": "stream",
     "text": [
      "emotion\n",
      "subjectivity\n",
      "sentiment\n",
      "orientation\n",
      "color\n"
     ]
    }
   ],
   "source": [
    "# Init max\n",
    "for c in categories:\n",
    "    print(c)\n",
    "    max_values[c] = 0"
   ]
  },
  {
   "cell_type": "code",
   "execution_count": 28,
   "metadata": {},
   "outputs": [],
   "source": [
    "# Read data file\n",
    "input_data = []\n",
    "with open(DATA_FILE, 'r') as f:\n",
    "    all_rows = csv.reader(f, delimiter=',')\n",
    "    headers = next(all_rows, None) # remove header\n",
    "    rows = []\n",
    "    for row in all_rows:\n",
    "        if row != []:\n",
    "            rows.append(row)\n",
    "        else:\n",
    "            continue\n",
    "    for row in rows:\n",
    "        entry = {}\n",
    "        for i, h in enumerate(headers):\n",
    "            if len(row[i])>1:\n",
    "                entry[h] = row[i]\n",
    "            else:\n",
    "                entry[h] = int(row[i])\n",
    "        input_data.append(entry)"
   ]
  },
  {
   "cell_type": "code",
   "execution_count": 44,
   "metadata": {},
   "outputs": [],
   "source": [
    "# list of lists of dictionaries(word + emotions + review number) of each review \n",
    "list_of_reviews = []\n",
    "\n",
    "amount_reviews = set()\n",
    "for row in input_data:\n",
    "    i = int(row['review'])\n",
    "    amount_reviews.add(i)\n",
    "\n",
    "for i in range(len(amount_reviews)):\n",
    "    review = []\n",
    "    for row in input_data:\n",
    "        if int(row['review']) == i:\n",
    "            review.append(row)\n",
    "    list_of_reviews.append(review)"
   ]
  },
  {
   "cell_type": "code",
   "execution_count": 53,
   "metadata": {},
   "outputs": [
    {
     "name": "stdout",
     "output_type": "stream",
     "text": [
      "{'english word': 'stay', 'anger': 0, 'fear': 0, 'anticipation': 0, 'trust': 0, 'surprise': 0, 'sadness': 0, 'joy': 0, 'disgust': 0, 'review': 0}\n"
     ]
    }
   ],
   "source": [
    "print(list_of_reviews[0][0])"
   ]
  },
  {
   "cell_type": "code",
   "execution_count": 85,
   "metadata": {},
   "outputs": [],
   "source": [
    "anger_score = []\n",
    "fear_score = []\n",
    "anticipation_score = []\n",
    "trust_score = []\n",
    "surprise_score = []\n",
    "sadness_score = []\n",
    "joy_score = []\n",
    "disgust_score = []"
   ]
  },
  {
   "cell_type": "code",
   "execution_count": 86,
   "metadata": {},
   "outputs": [],
   "source": [
    "scores=[]\n",
    "for review in list_of_reviews:\n",
    "    amount_of_words = len(review)\n",
    "    anger = []\n",
    "    fear = []\n",
    "    anticipation = []\n",
    "    trust = []\n",
    "    surprise = []\n",
    "    sadness = []\n",
    "    joy = []\n",
    "    disgust = []\n",
    "    for i in range(amount_of_words):\n",
    "        anger.append(review[i]['anger'])\n",
    "        fear.append(review[i]['fear'])\n",
    "        anticipation.append(review[i]['anticipation'])\n",
    "        trust.append(review[i]['trust'])\n",
    "        surprise.append(review[i]['surprise'])\n",
    "        sadness.append(review[i]['sadness'])\n",
    "        joy.append(review[i]['joy'])\n",
    "        disgust.append(review[i]['disgust'])\n",
    "    anger_score.append(sum(anger)/amount_of_words)\n",
    "    fear_score.append(sum(fear)/amount_of_words)\n",
    "    anticipation_score.append(sum(anticipation)/amount_of_words)\n",
    "    trust_score.append(sum(trust)/amount_of_words)\n",
    "    surprise_score.append(sum(surprise)/amount_of_words)\n",
    "    sadness_score.append(sum(sadness)/amount_of_words)\n",
    "    joy_score.append(sum(joy)/amount_of_words)\n",
    "    disgust_score.append(sum(disgust)/amount_of_words)\n",
    "\n",
    "scores.append(anger_score)\n",
    "scores.append(fear_score)\n",
    "scores.append(anticipation_score)\n",
    "scores.append(trust_score)\n",
    "scores.append(surprise_score)\n",
    "scores.append(sadness_score)\n",
    "scores.append(joy_score)\n",
    "scores.append(disgust_score)"
   ]
  },
  {
   "cell_type": "code",
   "execution_count": 88,
   "metadata": {},
   "outputs": [
    {
     "name": "stdout",
     "output_type": "stream",
     "text": [
      "[0.0, 0.034482758620689655, 0.038461538461538464, 0.0]\n"
     ]
    }
   ],
   "source": [
    "print(scores[0])"
   ]
  },
  {
   "cell_type": "code",
   "execution_count": 89,
   "metadata": {
    "collapsed": true
   },
   "outputs": [],
   "source": [
    "scores=np.array(scores)"
   ]
  },
  {
   "cell_type": "code",
   "execution_count": 94,
   "metadata": {},
   "outputs": [
    {
     "name": "stdout",
     "output_type": "stream",
     "text": [
      "[[ 0.          0.03448276  0.03846154  0.        ]\n",
      " [ 0.          0.03448276  0.          0.        ]\n",
      " [ 0.04615385  0.03448276  0.          0.04705882]\n",
      " [ 0.07692308  0.06896552  0.          0.08235294]\n",
      " [ 0.          0.06896552  0.          0.01176471]\n",
      " [ 0.          0.06896552  0.03846154  0.01176471]\n",
      " [ 0.06153846  0.10344828  0.          0.03529412]\n",
      " [ 0.          0.03448276  0.07692308  0.        ]]\n"
     ]
    }
   ],
   "source": [
    "print(scores)"
   ]
  },
  {
   "cell_type": "code",
   "execution_count": 102,
   "metadata": {
    "collapsed": true
   },
   "outputs": [],
   "source": [
    "# Read categories\n",
    "with open(CATEGORIES_FILE) as f:\n",
    "    categories = json.load(f)\n",
    "    emotions = categories['emotion']"
   ]
  },
  {
   "cell_type": "code",
   "execution_count": 111,
   "metadata": {},
   "outputs": [],
   "source": [
    "m,n = np.shape(scores)\n",
    "list_scores=[]\n",
    "\n",
    "for i in range(n):\n",
    "    rew_scores={}\n",
    "    #print('i: ', i)\n",
    "    for j, emotion in enumerate(emotions):\n",
    "     #   print('j: ', j)\n",
    "      #  print('emotion: ', emotion)\n",
    "        rew_scores[emotion] = scores[j,i]\n",
    "    list_scores.append(rew_scores)"
   ]
  },
  {
   "cell_type": "code",
   "execution_count": 114,
   "metadata": {},
   "outputs": [
    {
     "data": {
      "text/plain": [
       "[{'anger': 0.0,\n",
       "  'anticipation': 0.046153846153846156,\n",
       "  'disgust': 0.0,\n",
       "  'fear': 0.0,\n",
       "  'joy': 0.061538461538461542,\n",
       "  'sadness': 0.0,\n",
       "  'surprise': 0.0,\n",
       "  'trust': 0.076923076923076927},\n",
       " {'anger': 0.034482758620689655,\n",
       "  'anticipation': 0.034482758620689655,\n",
       "  'disgust': 0.034482758620689655,\n",
       "  'fear': 0.034482758620689655,\n",
       "  'joy': 0.10344827586206896,\n",
       "  'sadness': 0.068965517241379309,\n",
       "  'surprise': 0.068965517241379309,\n",
       "  'trust': 0.068965517241379309},\n",
       " {'anger': 0.038461538461538464,\n",
       "  'anticipation': 0.0,\n",
       "  'disgust': 0.076923076923076927,\n",
       "  'fear': 0.0,\n",
       "  'joy': 0.0,\n",
       "  'sadness': 0.038461538461538464,\n",
       "  'surprise': 0.0,\n",
       "  'trust': 0.0},\n",
       " {'anger': 0.0,\n",
       "  'anticipation': 0.047058823529411764,\n",
       "  'disgust': 0.0,\n",
       "  'fear': 0.0,\n",
       "  'joy': 0.035294117647058823,\n",
       "  'sadness': 0.011764705882352941,\n",
       "  'surprise': 0.011764705882352941,\n",
       "  'trust': 0.082352941176470587}]"
      ]
     },
     "execution_count": 114,
     "metadata": {},
     "output_type": "execute_result"
    }
   ],
   "source": [
    "list_scores"
   ]
  },
  {
   "cell_type": "code",
   "execution_count": null,
   "metadata": {
    "collapsed": true
   },
   "outputs": [],
   "source": []
  }
 ],
 "metadata": {
  "kernelspec": {
   "display_name": "Python 3",
   "language": "python",
   "name": "python3"
  },
  "language_info": {
   "codemirror_mode": {
    "name": "ipython",
    "version": 3
   },
   "file_extension": ".py",
   "mimetype": "text/x-python",
   "name": "python",
   "nbconvert_exporter": "python",
   "pygments_lexer": "ipython3",
   "version": "3.6.1"
  }
 },
 "nbformat": 4,
 "nbformat_minor": 1
}
