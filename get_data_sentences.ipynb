{
 "cells": [
  {
   "cell_type": "code",
   "execution_count": 1,
   "metadata": {
    "collapsed": true
   },
   "outputs": [],
   "source": [
    "# -*- coding: utf-8 -*-\n",
    "\n",
    "import csv\n",
    "import json\n",
    "import sys"
   ]
  },
  {
   "cell_type": "code",
   "execution_count": 2,
   "metadata": {
    "collapsed": true
   },
   "outputs": [],
   "source": [
    "# Files\n",
    "LEXICON_FILE = 'NRC-Emotion-Lexicon-v0.92-English.csv'\n",
    "CATEGORIES_FILE = 'categories.json'\n",
    "\n",
    "TEXT_FILE = 'review_sentences.json'\n",
    "DATA_FILE = 'output_data_sentences.csv'"
   ]
  },
  {
   "cell_type": "code",
   "execution_count": 3,
   "metadata": {
    "collapsed": true
   },
   "outputs": [],
   "source": [
    "# Init\n",
    "vocabulary = []\n",
    "words = []\n",
    "categories = {}\n",
    "category_headers = []\n",
    "text = {}\n",
    "data = []\n",
    "chapters = []"
   ]
  },
  {
   "cell_type": "code",
   "execution_count": 4,
   "metadata": {
    "collapsed": false
   },
   "outputs": [],
   "source": [
    "# Read vocabulary\n",
    "with open(LEXICON_FILE, 'r') as f:\n",
    "    rows = csv.reader(f, delimiter=',')\n",
    "    headers = next(rows, None) # remove header\n",
    "    for row in rows:\n",
    "        entry = {}\n",
    "        for i, h in enumerate(headers):\n",
    "            entry[h] = row[i]\n",
    "        vocabulary.append(entry)\n",
    "    #print (vocabulary)\n",
    "    words = [v['\\xef\\xbb\\xbfenglish word'] for v in vocabulary]"
   ]
  },
  {
   "cell_type": "code",
   "execution_count": 5,
   "metadata": {
    "collapsed": true
   },
   "outputs": [],
   "source": [
    "# Read categories\n",
    "with open(CATEGORIES_FILE) as f:\n",
    "    categories = json.load(f)\n",
    "    emotions = categories['emotion']"
   ]
  },
  {
   "cell_type": "code",
   "execution_count": 6,
   "metadata": {
    "collapsed": true
   },
   "outputs": [],
   "source": [
    "# lemmatized filtered etc words from all reviews. list of lists\n",
    "reviews = []\n",
    "# Read normalized text\n",
    "with open(TEXT_FILE) as f:\n",
    "    text = json.load(f)\n",
    "    for i in range(len(text)):\n",
    "        reviews.append(text[i])"
   ]
  },
  {
   "cell_type": "code",
   "execution_count": 7,
   "metadata": {
    "collapsed": false
   },
   "outputs": [
    {
     "name": "stdout",
     "output_type": "stream",
     "text": [
      "[[[u'stay', u'king', u'suite', u'night', u'yes', u'cots', u'u', u'bite', u'happy', u'standard', u'room', u'location', u'friendliness', u'staff'], [u'room', u'floor', u'overlook', u'broadway', u'madhouse', u'fairway', u'market'], [u'room', u'quite', u'no', u'noise', u'evident', u'hallway', u'adjoining', u'room'], [u'great', u'able', u'open', u'window', u'crave', u'fresh', u'rather', u'heat', u'air'], [u'bed', u'include', u'fold', u'sofa', u'bed', u'comfortable', u'room', u'clean', u'well'], [u'access', u'work', u'like', u'dream', u'one', u'connectivity', u'issue', u'first', u'night', u'promptly', u'respond', u'call', u'service', u'provider', u'ensure', u'well'], [u'location', u'close', u'street', u'subway', u'station', u'great', u'complimentary', u'umbrella', u'drizzly', u'day', u'greatly', u'appreciate'], [u'fabulous', u'kitchen', u'cook', u'facility', u'access', u'whole', u'range', u'fresh', u'food', u'directly', u'across', u'road', u'fairway'], [u'second', u'time', u'member', u'party', u'stay', u'beacon', u'certainly', u'hotel', u'choice', u'future', u'visit'], []], [[u'every', u'visit', u'nyc', u'hotel', u'beacon', u'place', u'love', u'stay'], [u'conveniently', u'locate', u'central', u'park', u'lincoln', u'center', u'great', u'local', u'restaurant'], [u'room', u'lovely', u'bed', u'comfortable', u'great', u'little', u'kitchen', u'new', u'wizz', u'bang', u'coffee', u'maker'], [u'staff', u'accommodate', u'love', u'walking', u'across', u'street', u'fairway', u'supermarket', u'every', u'imaginable', u'goody', u'eat', u'choose', u'not', u'go', u'every', u'meal'], []], [[u'great', u'property', u'midtown'], [u'two', u'different', u'room', u'different', u'room', u'stay'], [u'first', u'room', u'north', u'tower', u'quite', u'inconvenient'], [u'go', u'conference', u'area', u'get', u'north', u'elevator'], [u'second', u'room', u'andaz', u'suite'], [u'nicely', u'appoint', u'room', u'best', u'part', u'bathroom'], [u'foot', u'soak', u'bowl', u'bath', u'product', u'everything', u'bathroom', u'awesome'], [u'lemon', u'pancake', u'must', u'have', u'restaurant'], [u'one', u'best', u'pancake', u'ever'], []], [[u'andaz', u'nice', u'hotel', u'central', u'location', u'manhattan'], [u'hyatt', u'come', u'modern', u'hotel', u'comfortable', u'convenient'], [u'arrive', u'greet', u'friendly', u'host', u'walk', u'desk', u'offering', u'beverage'], [u'one', u'bedroom', u'suite', u'accommodate', u'four', u'people', u'reasonably', u'well'], [u'plenty', u'closet', u'space', u'well', u'lit', u'floor', u'ceiling', u'window', u'actually', u'quiet'], [u'bathroom', u'large', u'nice', u'shower', u'bench', u'unique', u'low', u'spout', u'wash', u'foot'], [u'kitchenette', u'nice', u'touch', u'stock', u'fridge', u'offering', u'complimentary', u'beverage', u'snack', u'dish', u'utensils', u'sink', u'dishwasher', u'microwave'], [u'daily', u'happy', u'hour', u'get', u'complimentary', u'decent', u'glass', u'wine', u'modest', u'lobby', u'lounge', u'bring', u'room'], [u'lobby', u'lounge', u'seat', u'one', u'table', u'chair', u'buy', u'food', u'adjacent', u'restaurant'], [u'one', u'suggestion', u'offer', u'selection', u'cheese', u'cracker', u'platter', u'go', u'wine'], [u'order', u'one', u'custom', u'make', u'work', u'well'], [u'eat', u'hotel', u'restaurant'], [u'restaurant', u'lobby', u'pricey', u'breakfast', u'per', u'entree'], [u'get', u'decent', u'breakfast', u'within', u'block', u'two', u'hotel', u'say'], [u'hotel', u'designer', u'someone', u'picky', u'hotel', u'definitely', u'stay', u'highly', u'recommend'], []]]\n"
     ]
    }
   ],
   "source": [
    "print reviews"
   ]
  },
  {
   "cell_type": "code",
   "execution_count": 15,
   "metadata": {
    "collapsed": true
   },
   "outputs": [],
   "source": [
    "# Check if word matches any lexicons\n",
    "def addData(word, review, sentence):\n",
    "    global data\n",
    "    global vocabulary\n",
    "    global emotions\n",
    "    global words\n",
    "\n",
    "    match = -1\n",
    "    for i,w in enumerate(words):\n",
    "        if w==word:\n",
    "            match = i\n",
    "            break\n",
    "\n",
    "    if match >= 0:\n",
    "        for item in vocabulary:\n",
    "            if item['\\xef\\xbb\\xbfenglish word'] == word:\n",
    "                entry = item\n",
    "                break\n",
    "            else: \n",
    "                continue\n",
    "        row = [None]*11\n",
    "        i = 0\n",
    "        row[i] = entry['\\xef\\xbb\\xbfenglish word']\n",
    "        for emotion in emotions:\n",
    "            i += 1\n",
    "            if entry[emotion]:\n",
    "                row[i] = entry[emotion]\n",
    "            else:\n",
    "                row[i] = -1\n",
    "        row[i+1] = review\n",
    "        row[i+2] = sentence\n",
    "        data.append(row)"
   ]
  },
  {
   "cell_type": "code",
   "execution_count": 16,
   "metadata": {
    "collapsed": false
   },
   "outputs": [],
   "source": [
    "# Read each review\n",
    "data = []\n",
    "for i, review in enumerate(reviews):\n",
    "    for j, sentence in enumerate(review):\n",
    "        for word in sentence:\n",
    "            addData(word, i, j)"
   ]
  },
  {
   "cell_type": "code",
   "execution_count": 17,
   "metadata": {
    "collapsed": true
   },
   "outputs": [],
   "source": [
    "import os\n",
    "if os.path.isfile('output_data.csv'):\n",
    "    os.remove('output_data.csv')"
   ]
  },
  {
   "cell_type": "code",
   "execution_count": 18,
   "metadata": {
    "collapsed": false
   },
   "outputs": [
    {
     "name": "stdout",
     "output_type": "stream",
     "text": [
      "Successfully wrote 206 entries to file: output_data_sentences.csv\n"
     ]
    }
   ],
   "source": [
    "# Output data as csv\n",
    "with open(DATA_FILE, 'w') as f:\n",
    "    cw = csv.writer(f)\n",
    "    headers = ['english word']\n",
    "    for emotion in emotions:\n",
    "        headers.append(emotion)\n",
    "    headers.append(u'review')\n",
    "    headers.append(u'sentence')\n",
    "    cw.writerow(headers)\n",
    "    for row in data:\n",
    "        cw.writerow(row)\n",
    "    print('Successfully wrote '+str(len(data))+' entries to file: '+DATA_FILE)"
   ]
  },
  {
   "cell_type": "code",
   "execution_count": null,
   "metadata": {
    "collapsed": true
   },
   "outputs": [],
   "source": []
  }
 ],
 "metadata": {
  "anaconda-cloud": {},
  "kernelspec": {
   "display_name": "Python [Root]",
   "language": "python",
   "name": "Python [Root]"
  },
  "language_info": {
   "codemirror_mode": {
    "name": "ipython",
    "version": 2
   },
   "file_extension": ".py",
   "mimetype": "text/x-python",
   "name": "python",
   "nbconvert_exporter": "python",
   "pygments_lexer": "ipython2",
   "version": "2.7.14"
  }
 },
 "nbformat": 4,
 "nbformat_minor": 1
}
