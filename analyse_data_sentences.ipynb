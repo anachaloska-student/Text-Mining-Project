{
 "cells": [
  {
   "cell_type": "code",
   "execution_count": 72,
   "metadata": {
    "collapsed": true
   },
   "outputs": [],
   "source": [
    "import csv\n",
    "import json\n",
    "import sys\n",
    "import numpy as np\n",
    "from __future__ import division   # Only for Python 2.7, comment out if you're using Python 3.6"
   ]
  },
  {
   "cell_type": "code",
   "execution_count": 73,
   "metadata": {
    "collapsed": true
   },
   "outputs": [],
   "source": [
    "# Files and inputs\n",
    "CATEGORIES_FILE = 'categories.json'\n",
    "DATA_FILE = 'output_data_sentences.csv'\n",
    "ANALYSIS_FILE = 'analysis_output_sentences.json'\n",
    "WORD_BUFFER_SIZE = 400\n",
    "WORD_OFFSET = 200"
   ]
  },
  {
   "cell_type": "code",
   "execution_count": 74,
   "metadata": {
    "collapsed": true
   },
   "outputs": [],
   "source": [
    "# Init\n",
    "categories = {}\n",
    "input_data = []\n",
    "max_values = {}\n",
    "data = []"
   ]
  },
  {
   "cell_type": "code",
   "execution_count": 75,
   "metadata": {
    "collapsed": true
   },
   "outputs": [],
   "source": [
    "# Read categories\n",
    "with open(CATEGORIES_FILE) as f:\n",
    "    categories = json.load(f)\n",
    "    emotions = categories['emotion']"
   ]
  },
  {
   "cell_type": "code",
   "execution_count": 76,
   "metadata": {
    "collapsed": false
   },
   "outputs": [
    {
     "name": "stdout",
     "output_type": "stream",
     "text": [
      "emotion\n",
      "color\n",
      "orientation\n",
      "sentiment\n",
      "subjectivity\n"
     ]
    }
   ],
   "source": [
    "# Init max\n",
    "for c in categories:\n",
    "    print(c)\n",
    "    max_values[c] = 0"
   ]
  },
  {
   "cell_type": "code",
   "execution_count": 77,
   "metadata": {
    "collapsed": true
   },
   "outputs": [],
   "source": [
    "# Read data file\n",
    "input_data = []\n",
    "with open(DATA_FILE, 'r') as f:\n",
    "    all_rows = csv.reader(f, delimiter=',')\n",
    "    headers = next(all_rows, None) # remove header\n",
    "    rows = []\n",
    "    for row in all_rows:\n",
    "        if row != []:\n",
    "            rows.append(row)\n",
    "        else:\n",
    "            continue\n",
    "    for row in rows:\n",
    "        entry = {}\n",
    "        for i, h in enumerate(headers):\n",
    "            if len(row[i])>1:\n",
    "                entry[h] = row[i]\n",
    "            else:\n",
    "                entry[h] = int(row[i])\n",
    "        input_data.append(entry)"
   ]
  },
  {
   "cell_type": "code",
   "execution_count": 78,
   "metadata": {
    "collapsed": false
   },
   "outputs": [
    {
     "name": "stdout",
     "output_type": "stream",
     "text": [
      "[{'anticipation': 0, 'sentence': 0, 'joy': 0, 'review': 0, 'sadness': 0, 'disgust': 0, 'anger': 0, 'surprise': 0, 'fear': 0, 'trust': 0, 'english word': 'stay'}, {'anticipation': 0, 'sentence': 0, 'joy': 0, 'review': 0, 'sadness': 0, 'disgust': 0, 'anger': 0, 'surprise': 0, 'fear': 0, 'trust': 0, 'english word': 'king'}, {'anticipation': 0, 'sentence': 0, 'joy': 0, 'review': 0, 'sadness': 0, 'disgust': 0, 'anger': 0, 'surprise': 0, 'fear': 0, 'trust': 0, 'english word': 'suite'}, {'anticipation': 0, 'sentence': 0, 'joy': 0, 'review': 0, 'sadness': 0, 'disgust': 0, 'anger': 0, 'surprise': 0, 'fear': 0, 'trust': 0, 'english word': 'night'}, {'anticipation': 0, 'sentence': 0, 'joy': 0, 'review': 0, 'sadness': 0, 'disgust': 0, 'anger': 0, 'surprise': 0, 'fear': 0, 'trust': 0, 'english word': 'bite'}, {'anticipation': 1, 'sentence': 0, 'joy': 1, 'review': 0, 'sadness': 0, 'disgust': 0, 'anger': 0, 'surprise': 0, 'fear': 0, 'trust': 1, 'english word': 'happy'}, {'anticipation': 0, 'sentence': 0, 'joy': 0, 'review': 0, 'sadness': 0, 'disgust': 0, 'anger': 0, 'surprise': 0, 'fear': 0, 'trust': 0, 'english word': 'standard'}, {'anticipation': 0, 'sentence': 0, 'joy': 0, 'review': 0, 'sadness': 0, 'disgust': 0, 'anger': 0, 'surprise': 0, 'fear': 0, 'trust': 0, 'english word': 'room'}, {'anticipation': 0, 'sentence': 0, 'joy': 0, 'review': 0, 'sadness': 0, 'disgust': 0, 'anger': 0, 'surprise': 0, 'fear': 0, 'trust': 0, 'english word': 'location'}, {'anticipation': 0, 'sentence': 0, 'joy': 1, 'review': 0, 'sadness': 0, 'disgust': 0, 'anger': 0, 'surprise': 0, 'fear': 0, 'trust': 1, 'english word': 'friendliness'}, {'anticipation': 0, 'sentence': 0, 'joy': 0, 'review': 0, 'sadness': 0, 'disgust': 0, 'anger': 0, 'surprise': 0, 'fear': 0, 'trust': 0, 'english word': 'staff'}, {'anticipation': 0, 'sentence': 1, 'joy': 0, 'review': 0, 'sadness': 0, 'disgust': 0, 'anger': 0, 'surprise': 0, 'fear': 0, 'trust': 0, 'english word': 'room'}, {'anticipation': 0, 'sentence': 1, 'joy': 0, 'review': 0, 'sadness': 0, 'disgust': 0, 'anger': 0, 'surprise': 0, 'fear': 0, 'trust': 0, 'english word': 'floor'}, {'anticipation': 0, 'sentence': 1, 'joy': 0, 'review': 0, 'sadness': 0, 'disgust': 0, 'anger': 0, 'surprise': 0, 'fear': 0, 'trust': 0, 'english word': 'fairway'}, {'anticipation': 0, 'sentence': 1, 'joy': 0, 'review': 0, 'sadness': 0, 'disgust': 0, 'anger': 0, 'surprise': 0, 'fear': 0, 'trust': 0, 'english word': 'market'}, {'anticipation': 0, 'sentence': 2, 'joy': 0, 'review': 0, 'sadness': 0, 'disgust': 0, 'anger': 0, 'surprise': 0, 'fear': 0, 'trust': 0, 'english word': 'room'}, {'anticipation': 0, 'sentence': 2, 'joy': 0, 'review': 0, 'sadness': 0, 'disgust': 0, 'anger': 0, 'surprise': 0, 'fear': 0, 'trust': 0, 'english word': 'noise'}, {'anticipation': 0, 'sentence': 2, 'joy': 0, 'review': 0, 'sadness': 0, 'disgust': 0, 'anger': 0, 'surprise': 0, 'fear': 0, 'trust': 1, 'english word': 'evident'}, {'anticipation': 0, 'sentence': 2, 'joy': 0, 'review': 0, 'sadness': 0, 'disgust': 0, 'anger': 0, 'surprise': 0, 'fear': 0, 'trust': 0, 'english word': 'adjoining'}, {'anticipation': 0, 'sentence': 2, 'joy': 0, 'review': 0, 'sadness': 0, 'disgust': 0, 'anger': 0, 'surprise': 0, 'fear': 0, 'trust': 0, 'english word': 'room'}, {'anticipation': 0, 'sentence': 3, 'joy': 0, 'review': 0, 'sadness': 0, 'disgust': 0, 'anger': 0, 'surprise': 0, 'fear': 0, 'trust': 0, 'english word': 'open'}, {'anticipation': 0, 'sentence': 3, 'joy': 0, 'review': 0, 'sadness': 0, 'disgust': 0, 'anger': 0, 'surprise': 0, 'fear': 0, 'trust': 0, 'english word': 'window'}, {'anticipation': 1, 'sentence': 3, 'joy': 0, 'review': 0, 'sadness': 0, 'disgust': 0, 'anger': 0, 'surprise': 0, 'fear': 0, 'trust': 0, 'english word': 'crave'}, {'anticipation': 0, 'sentence': 3, 'joy': 0, 'review': 0, 'sadness': 0, 'disgust': 0, 'anger': 0, 'surprise': 0, 'fear': 0, 'trust': 0, 'english word': 'heat'}, {'anticipation': 0, 'sentence': 3, 'joy': 0, 'review': 0, 'sadness': 0, 'disgust': 0, 'anger': 0, 'surprise': 0, 'fear': 0, 'trust': 0, 'english word': 'air'}, {'anticipation': 0, 'sentence': 4, 'joy': 0, 'review': 0, 'sadness': 0, 'disgust': 0, 'anger': 0, 'surprise': 0, 'fear': 0, 'trust': 0, 'english word': 'bed'}, {'anticipation': 0, 'sentence': 4, 'joy': 0, 'review': 0, 'sadness': 0, 'disgust': 0, 'anger': 0, 'surprise': 0, 'fear': 0, 'trust': 0, 'english word': 'include'}, {'anticipation': 0, 'sentence': 4, 'joy': 0, 'review': 0, 'sadness': 0, 'disgust': 0, 'anger': 0, 'surprise': 0, 'fear': 0, 'trust': 0, 'english word': 'fold'}, {'anticipation': 0, 'sentence': 4, 'joy': 0, 'review': 0, 'sadness': 0, 'disgust': 0, 'anger': 0, 'surprise': 0, 'fear': 0, 'trust': 0, 'english word': 'sofa'}, {'anticipation': 0, 'sentence': 4, 'joy': 0, 'review': 0, 'sadness': 0, 'disgust': 0, 'anger': 0, 'surprise': 0, 'fear': 0, 'trust': 0, 'english word': 'bed'}, {'anticipation': 0, 'sentence': 4, 'joy': 0, 'review': 0, 'sadness': 0, 'disgust': 0, 'anger': 0, 'surprise': 0, 'fear': 0, 'trust': 0, 'english word': 'room'}, {'anticipation': 0, 'sentence': 4, 'joy': 1, 'review': 0, 'sadness': 0, 'disgust': 0, 'anger': 0, 'surprise': 0, 'fear': 0, 'trust': 1, 'english word': 'clean'}, {'anticipation': 0, 'sentence': 5, 'joy': 0, 'review': 0, 'sadness': 0, 'disgust': 0, 'anger': 0, 'surprise': 0, 'fear': 0, 'trust': 0, 'english word': 'access'}, {'anticipation': 0, 'sentence': 5, 'joy': 0, 'review': 0, 'sadness': 0, 'disgust': 0, 'anger': 0, 'surprise': 0, 'fear': 0, 'trust': 0, 'english word': 'work'}, {'anticipation': 0, 'sentence': 5, 'joy': 0, 'review': 0, 'sadness': 0, 'disgust': 0, 'anger': 0, 'surprise': 0, 'fear': 0, 'trust': 0, 'english word': 'dream'}, {'anticipation': 0, 'sentence': 5, 'joy': 0, 'review': 0, 'sadness': 0, 'disgust': 0, 'anger': 0, 'surprise': 0, 'fear': 0, 'trust': 0, 'english word': 'issue'}, {'anticipation': 0, 'sentence': 5, 'joy': 0, 'review': 0, 'sadness': 0, 'disgust': 0, 'anger': 0, 'surprise': 0, 'fear': 0, 'trust': 0, 'english word': 'night'}, {'anticipation': 0, 'sentence': 5, 'joy': 0, 'review': 0, 'sadness': 0, 'disgust': 0, 'anger': 0, 'surprise': 0, 'fear': 0, 'trust': 0, 'english word': 'respond'}, {'anticipation': 0, 'sentence': 5, 'joy': 0, 'review': 0, 'sadness': 0, 'disgust': 0, 'anger': 0, 'surprise': 0, 'fear': 0, 'trust': 0, 'english word': 'call'}, {'anticipation': 0, 'sentence': 5, 'joy': 0, 'review': 0, 'sadness': 0, 'disgust': 0, 'anger': 0, 'surprise': 0, 'fear': 0, 'trust': 0, 'english word': 'service'}, {'anticipation': 0, 'sentence': 5, 'joy': 0, 'review': 0, 'sadness': 0, 'disgust': 0, 'anger': 0, 'surprise': 0, 'fear': 0, 'trust': 0, 'english word': 'ensure'}, {'anticipation': 0, 'sentence': 6, 'joy': 0, 'review': 0, 'sadness': 0, 'disgust': 0, 'anger': 0, 'surprise': 0, 'fear': 0, 'trust': 0, 'english word': 'location'}, {'anticipation': 0, 'sentence': 6, 'joy': 0, 'review': 0, 'sadness': 0, 'disgust': 0, 'anger': 0, 'surprise': 0, 'fear': 0, 'trust': 0, 'english word': 'close'}, {'anticipation': 0, 'sentence': 6, 'joy': 0, 'review': 0, 'sadness': 0, 'disgust': 0, 'anger': 0, 'surprise': 0, 'fear': 0, 'trust': 0, 'english word': 'street'}, {'anticipation': 0, 'sentence': 6, 'joy': 0, 'review': 0, 'sadness': 0, 'disgust': 0, 'anger': 0, 'surprise': 0, 'fear': 0, 'trust': 0, 'english word': 'subway'}, {'anticipation': 0, 'sentence': 6, 'joy': 0, 'review': 0, 'sadness': 0, 'disgust': 0, 'anger': 0, 'surprise': 0, 'fear': 0, 'trust': 0, 'english word': 'station'}, {'anticipation': 0, 'sentence': 6, 'joy': 0, 'review': 0, 'sadness': 0, 'disgust': 0, 'anger': 0, 'surprise': 0, 'fear': 0, 'trust': 0, 'english word': 'umbrella'}, {'anticipation': 0, 'sentence': 6, 'joy': 0, 'review': 0, 'sadness': 0, 'disgust': 0, 'anger': 0, 'surprise': 0, 'fear': 0, 'trust': 0, 'english word': 'day'}, {'anticipation': 0, 'sentence': 6, 'joy': 0, 'review': 0, 'sadness': 0, 'disgust': 0, 'anger': 0, 'surprise': 0, 'fear': 0, 'trust': 0, 'english word': 'greatly'}, {'anticipation': 0, 'sentence': 7, 'joy': 0, 'review': 0, 'sadness': 0, 'disgust': 0, 'anger': 0, 'surprise': 0, 'fear': 0, 'trust': 0, 'english word': 'kitchen'}, {'anticipation': 0, 'sentence': 7, 'joy': 0, 'review': 0, 'sadness': 0, 'disgust': 0, 'anger': 0, 'surprise': 0, 'fear': 0, 'trust': 0, 'english word': 'cook'}, {'anticipation': 0, 'sentence': 7, 'joy': 0, 'review': 0, 'sadness': 0, 'disgust': 0, 'anger': 0, 'surprise': 0, 'fear': 0, 'trust': 0, 'english word': 'facility'}, {'anticipation': 0, 'sentence': 7, 'joy': 0, 'review': 0, 'sadness': 0, 'disgust': 0, 'anger': 0, 'surprise': 0, 'fear': 0, 'trust': 0, 'english word': 'access'}, {'anticipation': 0, 'sentence': 7, 'joy': 1, 'review': 0, 'sadness': 0, 'disgust': 0, 'anger': 0, 'surprise': 0, 'fear': 0, 'trust': 1, 'english word': 'food'}, {'anticipation': 0, 'sentence': 7, 'joy': 0, 'review': 0, 'sadness': 0, 'disgust': 0, 'anger': 0, 'surprise': 0, 'fear': 0, 'trust': 0, 'english word': 'directly'}, {'anticipation': 0, 'sentence': 7, 'joy': 0, 'review': 0, 'sadness': 0, 'disgust': 0, 'anger': 0, 'surprise': 0, 'fear': 0, 'trust': 0, 'english word': 'road'}, {'anticipation': 0, 'sentence': 7, 'joy': 0, 'review': 0, 'sadness': 0, 'disgust': 0, 'anger': 0, 'surprise': 0, 'fear': 0, 'trust': 0, 'english word': 'fairway'}, {'anticipation': 1, 'sentence': 8, 'joy': 0, 'review': 0, 'sadness': 0, 'disgust': 0, 'anger': 0, 'surprise': 0, 'fear': 0, 'trust': 0, 'english word': 'time'}, {'anticipation': 0, 'sentence': 8, 'joy': 0, 'review': 0, 'sadness': 0, 'disgust': 0, 'anger': 0, 'surprise': 0, 'fear': 0, 'trust': 0, 'english word': 'member'}, {'anticipation': 0, 'sentence': 8, 'joy': 0, 'review': 0, 'sadness': 0, 'disgust': 0, 'anger': 0, 'surprise': 0, 'fear': 0, 'trust': 0, 'english word': 'party'}, {'anticipation': 0, 'sentence': 8, 'joy': 0, 'review': 0, 'sadness': 0, 'disgust': 0, 'anger': 0, 'surprise': 0, 'fear': 0, 'trust': 0, 'english word': 'stay'}, {'anticipation': 0, 'sentence': 8, 'joy': 0, 'review': 0, 'sadness': 0, 'disgust': 0, 'anger': 0, 'surprise': 0, 'fear': 0, 'trust': 0, 'english word': 'beacon'}, {'anticipation': 0, 'sentence': 8, 'joy': 0, 'review': 0, 'sadness': 0, 'disgust': 0, 'anger': 0, 'surprise': 0, 'fear': 0, 'trust': 0, 'english word': 'hotel'}, {'anticipation': 0, 'sentence': 8, 'joy': 0, 'review': 0, 'sadness': 0, 'disgust': 0, 'anger': 0, 'surprise': 0, 'fear': 0, 'trust': 0, 'english word': 'choice'}, {'anticipation': 0, 'sentence': 8, 'joy': 0, 'review': 0, 'sadness': 0, 'disgust': 0, 'anger': 0, 'surprise': 0, 'fear': 0, 'trust': 0, 'english word': 'future'}, {'anticipation': 0, 'sentence': 8, 'joy': 0, 'review': 0, 'sadness': 0, 'disgust': 0, 'anger': 0, 'surprise': 0, 'fear': 0, 'trust': 0, 'english word': 'visit'}, {'anticipation': 0, 'sentence': 0, 'joy': 0, 'review': 1, 'sadness': 0, 'disgust': 0, 'anger': 0, 'surprise': 0, 'fear': 0, 'trust': 0, 'english word': 'visit'}, {'anticipation': 0, 'sentence': 0, 'joy': 0, 'review': 1, 'sadness': 0, 'disgust': 0, 'anger': 0, 'surprise': 0, 'fear': 0, 'trust': 0, 'english word': 'hotel'}, {'anticipation': 0, 'sentence': 0, 'joy': 0, 'review': 1, 'sadness': 0, 'disgust': 0, 'anger': 0, 'surprise': 0, 'fear': 0, 'trust': 0, 'english word': 'beacon'}, {'anticipation': 0, 'sentence': 0, 'joy': 0, 'review': 1, 'sadness': 0, 'disgust': 0, 'anger': 0, 'surprise': 0, 'fear': 0, 'trust': 0, 'english word': 'place'}, {'anticipation': 0, 'sentence': 0, 'joy': 1, 'review': 1, 'sadness': 0, 'disgust': 0, 'anger': 0, 'surprise': 0, 'fear': 0, 'trust': 0, 'english word': 'love'}, {'anticipation': 0, 'sentence': 0, 'joy': 0, 'review': 1, 'sadness': 0, 'disgust': 0, 'anger': 0, 'surprise': 0, 'fear': 0, 'trust': 0, 'english word': 'stay'}, {'anticipation': 0, 'sentence': 1, 'joy': 0, 'review': 1, 'sadness': 0, 'disgust': 0, 'anger': 0, 'surprise': 0, 'fear': 0, 'trust': 0, 'english word': 'locate'}, {'anticipation': 0, 'sentence': 1, 'joy': 0, 'review': 1, 'sadness': 0, 'disgust': 0, 'anger': 0, 'surprise': 0, 'fear': 0, 'trust': 0, 'english word': 'central'}, {'anticipation': 0, 'sentence': 1, 'joy': 0, 'review': 1, 'sadness': 0, 'disgust': 0, 'anger': 0, 'surprise': 0, 'fear': 0, 'trust': 0, 'english word': 'park'}, {'anticipation': 0, 'sentence': 1, 'joy': 0, 'review': 1, 'sadness': 0, 'disgust': 0, 'anger': 0, 'surprise': 0, 'fear': 0, 'trust': 1, 'english word': 'center'}, {'anticipation': 0, 'sentence': 1, 'joy': 0, 'review': 1, 'sadness': 0, 'disgust': 0, 'anger': 0, 'surprise': 0, 'fear': 0, 'trust': 0, 'english word': 'local'}, {'anticipation': 0, 'sentence': 1, 'joy': 0, 'review': 1, 'sadness': 0, 'disgust': 0, 'anger': 0, 'surprise': 0, 'fear': 0, 'trust': 0, 'english word': 'restaurant'}, {'anticipation': 0, 'sentence': 2, 'joy': 0, 'review': 1, 'sadness': 0, 'disgust': 0, 'anger': 0, 'surprise': 0, 'fear': 0, 'trust': 0, 'english word': 'room'}, {'anticipation': 1, 'sentence': 2, 'joy': 1, 'review': 1, 'sadness': 1, 'disgust': 0, 'anger': 0, 'surprise': 1, 'fear': 0, 'trust': 1, 'english word': 'lovely'}, {'anticipation': 0, 'sentence': 2, 'joy': 0, 'review': 1, 'sadness': 0, 'disgust': 0, 'anger': 0, 'surprise': 0, 'fear': 0, 'trust': 0, 'english word': 'bed'}, {'anticipation': 0, 'sentence': 2, 'joy': 0, 'review': 1, 'sadness': 0, 'disgust': 0, 'anger': 0, 'surprise': 0, 'fear': 0, 'trust': 0, 'english word': 'kitchen'}, {'anticipation': 0, 'sentence': 2, 'joy': 0, 'review': 1, 'sadness': 1, 'disgust': 1, 'anger': 1, 'surprise': 1, 'fear': 1, 'trust': 0, 'english word': 'bang'}, {'anticipation': 0, 'sentence': 2, 'joy': 0, 'review': 1, 'sadness': 0, 'disgust': 0, 'anger': 0, 'surprise': 0, 'fear': 0, 'trust': 0, 'english word': 'coffee'}, {'anticipation': 0, 'sentence': 2, 'joy': 0, 'review': 1, 'sadness': 0, 'disgust': 0, 'anger': 0, 'surprise': 0, 'fear': 0, 'trust': 0, 'english word': 'maker'}, {'anticipation': 0, 'sentence': 3, 'joy': 0, 'review': 1, 'sadness': 0, 'disgust': 0, 'anger': 0, 'surprise': 0, 'fear': 0, 'trust': 0, 'english word': 'staff'}, {'anticipation': 0, 'sentence': 3, 'joy': 0, 'review': 1, 'sadness': 0, 'disgust': 0, 'anger': 0, 'surprise': 0, 'fear': 0, 'trust': 0, 'english word': 'accommodate'}, {'anticipation': 0, 'sentence': 3, 'joy': 1, 'review': 1, 'sadness': 0, 'disgust': 0, 'anger': 0, 'surprise': 0, 'fear': 0, 'trust': 0, 'english word': 'love'}, {'anticipation': 0, 'sentence': 3, 'joy': 0, 'review': 1, 'sadness': 0, 'disgust': 0, 'anger': 0, 'surprise': 0, 'fear': 0, 'trust': 0, 'english word': 'street'}, {'anticipation': 0, 'sentence': 3, 'joy': 0, 'review': 1, 'sadness': 0, 'disgust': 0, 'anger': 0, 'surprise': 0, 'fear': 0, 'trust': 0, 'english word': 'fairway'}, {'anticipation': 0, 'sentence': 3, 'joy': 0, 'review': 1, 'sadness': 0, 'disgust': 0, 'anger': 0, 'surprise': 0, 'fear': 0, 'trust': 0, 'english word': 'supermarket'}, {'anticipation': 0, 'sentence': 3, 'joy': 0, 'review': 1, 'sadness': 0, 'disgust': 0, 'anger': 0, 'surprise': 0, 'fear': 0, 'trust': 0, 'english word': 'goody'}, {'anticipation': 0, 'sentence': 3, 'joy': 0, 'review': 1, 'sadness': 0, 'disgust': 0, 'anger': 0, 'surprise': 0, 'fear': 0, 'trust': 0, 'english word': 'eat'}, {'anticipation': 0, 'sentence': 3, 'joy': 0, 'review': 1, 'sadness': 0, 'disgust': 0, 'anger': 0, 'surprise': 0, 'fear': 0, 'trust': 0, 'english word': 'choose'}, {'anticipation': 0, 'sentence': 3, 'joy': 0, 'review': 1, 'sadness': 0, 'disgust': 0, 'anger': 0, 'surprise': 0, 'fear': 0, 'trust': 0, 'english word': 'meal'}, {'anticipation': 0, 'sentence': 0, 'joy': 0, 'review': 2, 'sadness': 0, 'disgust': 0, 'anger': 0, 'surprise': 0, 'fear': 0, 'trust': 0, 'english word': 'property'}, {'anticipation': 0, 'sentence': 1, 'joy': 0, 'review': 2, 'sadness': 0, 'disgust': 0, 'anger': 0, 'surprise': 0, 'fear': 0, 'trust': 0, 'english word': 'room'}, {'anticipation': 0, 'sentence': 1, 'joy': 0, 'review': 2, 'sadness': 0, 'disgust': 0, 'anger': 0, 'surprise': 0, 'fear': 0, 'trust': 0, 'english word': 'room'}, {'anticipation': 0, 'sentence': 1, 'joy': 0, 'review': 2, 'sadness': 0, 'disgust': 0, 'anger': 0, 'surprise': 0, 'fear': 0, 'trust': 0, 'english word': 'stay'}, {'anticipation': 0, 'sentence': 2, 'joy': 0, 'review': 2, 'sadness': 0, 'disgust': 0, 'anger': 0, 'surprise': 0, 'fear': 0, 'trust': 0, 'english word': 'room'}, {'anticipation': 0, 'sentence': 2, 'joy': 0, 'review': 2, 'sadness': 0, 'disgust': 0, 'anger': 0, 'surprise': 0, 'fear': 0, 'trust': 0, 'english word': 'tower'}, {'anticipation': 0, 'sentence': 2, 'joy': 0, 'review': 2, 'sadness': 1, 'disgust': 1, 'anger': 1, 'surprise': 0, 'fear': 0, 'trust': 0, 'english word': 'inconvenient'}, {'anticipation': 0, 'sentence': 3, 'joy': 0, 'review': 2, 'sadness': 0, 'disgust': 0, 'anger': 0, 'surprise': 0, 'fear': 0, 'trust': 0, 'english word': 'conference'}, {'anticipation': 0, 'sentence': 3, 'joy': 0, 'review': 2, 'sadness': 0, 'disgust': 0, 'anger': 0, 'surprise': 0, 'fear': 0, 'trust': 0, 'english word': 'area'}, {'anticipation': 0, 'sentence': 3, 'joy': 0, 'review': 2, 'sadness': 0, 'disgust': 0, 'anger': 0, 'surprise': 0, 'fear': 0, 'trust': 0, 'english word': 'elevator'}, {'anticipation': 0, 'sentence': 4, 'joy': 0, 'review': 2, 'sadness': 0, 'disgust': 0, 'anger': 0, 'surprise': 0, 'fear': 0, 'trust': 0, 'english word': 'room'}, {'anticipation': 0, 'sentence': 4, 'joy': 0, 'review': 2, 'sadness': 0, 'disgust': 0, 'anger': 0, 'surprise': 0, 'fear': 0, 'trust': 0, 'english word': 'suite'}, {'anticipation': 0, 'sentence': 5, 'joy': 0, 'review': 2, 'sadness': 0, 'disgust': 0, 'anger': 0, 'surprise': 0, 'fear': 0, 'trust': 0, 'english word': 'appoint'}, {'anticipation': 0, 'sentence': 5, 'joy': 0, 'review': 2, 'sadness': 0, 'disgust': 0, 'anger': 0, 'surprise': 0, 'fear': 0, 'trust': 0, 'english word': 'room'}, {'anticipation': 0, 'sentence': 5, 'joy': 0, 'review': 2, 'sadness': 0, 'disgust': 0, 'anger': 0, 'surprise': 0, 'fear': 0, 'trust': 0, 'english word': 'part'}, {'anticipation': 0, 'sentence': 5, 'joy': 0, 'review': 2, 'sadness': 0, 'disgust': 0, 'anger': 0, 'surprise': 0, 'fear': 0, 'trust': 0, 'english word': 'bathroom'}, {'anticipation': 0, 'sentence': 6, 'joy': 0, 'review': 2, 'sadness': 0, 'disgust': 0, 'anger': 0, 'surprise': 0, 'fear': 0, 'trust': 0, 'english word': 'foot'}, {'anticipation': 0, 'sentence': 6, 'joy': 0, 'review': 2, 'sadness': 0, 'disgust': 0, 'anger': 0, 'surprise': 0, 'fear': 0, 'trust': 0, 'english word': 'soak'}, {'anticipation': 0, 'sentence': 6, 'joy': 0, 'review': 2, 'sadness': 0, 'disgust': 0, 'anger': 0, 'surprise': 0, 'fear': 0, 'trust': 0, 'english word': 'bowl'}, {'anticipation': 0, 'sentence': 6, 'joy': 0, 'review': 2, 'sadness': 0, 'disgust': 0, 'anger': 0, 'surprise': 0, 'fear': 0, 'trust': 0, 'english word': 'bath'}, {'anticipation': 0, 'sentence': 6, 'joy': 0, 'review': 2, 'sadness': 0, 'disgust': 0, 'anger': 0, 'surprise': 0, 'fear': 0, 'trust': 0, 'english word': 'product'}, {'anticipation': 0, 'sentence': 6, 'joy': 0, 'review': 2, 'sadness': 0, 'disgust': 0, 'anger': 0, 'surprise': 0, 'fear': 0, 'trust': 0, 'english word': 'bathroom'}, {'anticipation': 0, 'sentence': 7, 'joy': 0, 'review': 2, 'sadness': 0, 'disgust': 1, 'anger': 0, 'surprise': 0, 'fear': 0, 'trust': 0, 'english word': 'lemon'}, {'anticipation': 0, 'sentence': 7, 'joy': 0, 'review': 2, 'sadness': 0, 'disgust': 0, 'anger': 0, 'surprise': 0, 'fear': 0, 'trust': 0, 'english word': 'pancake'}, {'anticipation': 0, 'sentence': 7, 'joy': 0, 'review': 2, 'sadness': 0, 'disgust': 0, 'anger': 0, 'surprise': 0, 'fear': 0, 'trust': 0, 'english word': 'restaurant'}, {'anticipation': 0, 'sentence': 8, 'joy': 0, 'review': 2, 'sadness': 0, 'disgust': 0, 'anger': 0, 'surprise': 0, 'fear': 0, 'trust': 0, 'english word': 'pancake'}, {'anticipation': 0, 'sentence': 0, 'joy': 0, 'review': 3, 'sadness': 0, 'disgust': 0, 'anger': 0, 'surprise': 0, 'fear': 0, 'trust': 0, 'english word': 'hotel'}, {'anticipation': 0, 'sentence': 0, 'joy': 0, 'review': 3, 'sadness': 0, 'disgust': 0, 'anger': 0, 'surprise': 0, 'fear': 0, 'trust': 0, 'english word': 'central'}, {'anticipation': 0, 'sentence': 0, 'joy': 0, 'review': 3, 'sadness': 0, 'disgust': 0, 'anger': 0, 'surprise': 0, 'fear': 0, 'trust': 0, 'english word': 'location'}, {'anticipation': 0, 'sentence': 1, 'joy': 0, 'review': 3, 'sadness': 0, 'disgust': 0, 'anger': 0, 'surprise': 0, 'fear': 0, 'trust': 0, 'english word': 'modern'}, {'anticipation': 0, 'sentence': 1, 'joy': 0, 'review': 3, 'sadness': 0, 'disgust': 0, 'anger': 0, 'surprise': 0, 'fear': 0, 'trust': 0, 'english word': 'hotel'}, {'anticipation': 0, 'sentence': 1, 'joy': 0, 'review': 3, 'sadness': 0, 'disgust': 0, 'anger': 0, 'surprise': 0, 'fear': 0, 'trust': 0, 'english word': 'convenient'}, {'anticipation': 1, 'sentence': 2, 'joy': 0, 'review': 3, 'sadness': 0, 'disgust': 0, 'anger': 0, 'surprise': 0, 'fear': 0, 'trust': 0, 'english word': 'arrive'}, {'anticipation': 0, 'sentence': 2, 'joy': 0, 'review': 3, 'sadness': 0, 'disgust': 0, 'anger': 0, 'surprise': 0, 'fear': 0, 'trust': 0, 'english word': 'greet'}, {'anticipation': 1, 'sentence': 2, 'joy': 1, 'review': 3, 'sadness': 0, 'disgust': 0, 'anger': 0, 'surprise': 0, 'fear': 0, 'trust': 1, 'english word': 'friendly'}, {'anticipation': 0, 'sentence': 2, 'joy': 0, 'review': 3, 'sadness': 0, 'disgust': 0, 'anger': 0, 'surprise': 0, 'fear': 0, 'trust': 0, 'english word': 'walk'}, {'anticipation': 0, 'sentence': 2, 'joy': 0, 'review': 3, 'sadness': 0, 'disgust': 0, 'anger': 0, 'surprise': 0, 'fear': 0, 'trust': 0, 'english word': 'desk'}, {'anticipation': 0, 'sentence': 2, 'joy': 0, 'review': 3, 'sadness': 0, 'disgust': 0, 'anger': 0, 'surprise': 0, 'fear': 0, 'trust': 1, 'english word': 'offering'}, {'anticipation': 0, 'sentence': 2, 'joy': 0, 'review': 3, 'sadness': 0, 'disgust': 0, 'anger': 0, 'surprise': 0, 'fear': 0, 'trust': 0, 'english word': 'beverage'}, {'anticipation': 0, 'sentence': 3, 'joy': 0, 'review': 3, 'sadness': 0, 'disgust': 0, 'anger': 0, 'surprise': 0, 'fear': 0, 'trust': 0, 'english word': 'bedroom'}, {'anticipation': 0, 'sentence': 3, 'joy': 0, 'review': 3, 'sadness': 0, 'disgust': 0, 'anger': 0, 'surprise': 0, 'fear': 0, 'trust': 0, 'english word': 'suite'}, {'anticipation': 0, 'sentence': 3, 'joy': 0, 'review': 3, 'sadness': 0, 'disgust': 0, 'anger': 0, 'surprise': 0, 'fear': 0, 'trust': 0, 'english word': 'accommodate'}, {'anticipation': 0, 'sentence': 3, 'joy': 0, 'review': 3, 'sadness': 0, 'disgust': 0, 'anger': 0, 'surprise': 0, 'fear': 0, 'trust': 0, 'english word': 'people'}, {'anticipation': 0, 'sentence': 4, 'joy': 0, 'review': 3, 'sadness': 0, 'disgust': 0, 'anger': 0, 'surprise': 0, 'fear': 0, 'trust': 0, 'english word': 'plenty'}, {'anticipation': 0, 'sentence': 4, 'joy': 0, 'review': 3, 'sadness': 0, 'disgust': 0, 'anger': 0, 'surprise': 0, 'fear': 0, 'trust': 0, 'english word': 'closet'}, {'anticipation': 0, 'sentence': 4, 'joy': 0, 'review': 3, 'sadness': 0, 'disgust': 0, 'anger': 0, 'surprise': 0, 'fear': 0, 'trust': 0, 'english word': 'space'}, {'anticipation': 0, 'sentence': 4, 'joy': 0, 'review': 3, 'sadness': 0, 'disgust': 0, 'anger': 0, 'surprise': 0, 'fear': 0, 'trust': 0, 'english word': 'floor'}, {'anticipation': 0, 'sentence': 4, 'joy': 0, 'review': 3, 'sadness': 0, 'disgust': 0, 'anger': 0, 'surprise': 0, 'fear': 0, 'trust': 0, 'english word': 'ceiling'}, {'anticipation': 0, 'sentence': 4, 'joy': 0, 'review': 3, 'sadness': 0, 'disgust': 0, 'anger': 0, 'surprise': 0, 'fear': 0, 'trust': 0, 'english word': 'window'}, {'anticipation': 0, 'sentence': 4, 'joy': 0, 'review': 3, 'sadness': 1, 'disgust': 0, 'anger': 0, 'surprise': 0, 'fear': 0, 'trust': 0, 'english word': 'quiet'}, {'anticipation': 0, 'sentence': 5, 'joy': 0, 'review': 3, 'sadness': 0, 'disgust': 0, 'anger': 0, 'surprise': 0, 'fear': 0, 'trust': 0, 'english word': 'bathroom'}, {'anticipation': 0, 'sentence': 5, 'joy': 0, 'review': 3, 'sadness': 0, 'disgust': 0, 'anger': 0, 'surprise': 0, 'fear': 0, 'trust': 0, 'english word': 'large'}, {'anticipation': 0, 'sentence': 5, 'joy': 0, 'review': 3, 'sadness': 0, 'disgust': 0, 'anger': 0, 'surprise': 0, 'fear': 0, 'trust': 0, 'english word': 'shower'}, {'anticipation': 0, 'sentence': 5, 'joy': 0, 'review': 3, 'sadness': 0, 'disgust': 0, 'anger': 0, 'surprise': 0, 'fear': 0, 'trust': 0, 'english word': 'bench'}, {'anticipation': 0, 'sentence': 5, 'joy': 0, 'review': 3, 'sadness': 0, 'disgust': 0, 'anger': 0, 'surprise': 1, 'fear': 0, 'trust': 0, 'english word': 'unique'}, {'anticipation': 0, 'sentence': 5, 'joy': 0, 'review': 3, 'sadness': 0, 'disgust': 0, 'anger': 0, 'surprise': 0, 'fear': 0, 'trust': 0, 'english word': 'spout'}, {'anticipation': 0, 'sentence': 5, 'joy': 0, 'review': 3, 'sadness': 0, 'disgust': 0, 'anger': 0, 'surprise': 0, 'fear': 0, 'trust': 0, 'english word': 'wash'}, {'anticipation': 0, 'sentence': 5, 'joy': 0, 'review': 3, 'sadness': 0, 'disgust': 0, 'anger': 0, 'surprise': 0, 'fear': 0, 'trust': 0, 'english word': 'foot'}, {'anticipation': 0, 'sentence': 6, 'joy': 0, 'review': 3, 'sadness': 0, 'disgust': 0, 'anger': 0, 'surprise': 0, 'fear': 0, 'trust': 0, 'english word': 'touch'}, {'anticipation': 0, 'sentence': 6, 'joy': 0, 'review': 3, 'sadness': 0, 'disgust': 0, 'anger': 0, 'surprise': 0, 'fear': 0, 'trust': 0, 'english word': 'stock'}, {'anticipation': 0, 'sentence': 6, 'joy': 0, 'review': 3, 'sadness': 0, 'disgust': 0, 'anger': 0, 'surprise': 0, 'fear': 0, 'trust': 1, 'english word': 'offering'}, {'anticipation': 0, 'sentence': 6, 'joy': 0, 'review': 3, 'sadness': 0, 'disgust': 0, 'anger': 0, 'surprise': 0, 'fear': 0, 'trust': 0, 'english word': 'beverage'}, {'anticipation': 0, 'sentence': 6, 'joy': 0, 'review': 3, 'sadness': 0, 'disgust': 0, 'anger': 0, 'surprise': 0, 'fear': 0, 'trust': 0, 'english word': 'snack'}, {'anticipation': 0, 'sentence': 6, 'joy': 0, 'review': 3, 'sadness': 0, 'disgust': 0, 'anger': 0, 'surprise': 0, 'fear': 0, 'trust': 0, 'english word': 'dish'}, {'anticipation': 0, 'sentence': 6, 'joy': 0, 'review': 3, 'sadness': 0, 'disgust': 0, 'anger': 0, 'surprise': 0, 'fear': 0, 'trust': 0, 'english word': 'sink'}, {'anticipation': 1, 'sentence': 7, 'joy': 0, 'review': 3, 'sadness': 0, 'disgust': 0, 'anger': 0, 'surprise': 0, 'fear': 0, 'trust': 0, 'english word': 'daily'}, {'anticipation': 1, 'sentence': 7, 'joy': 1, 'review': 3, 'sadness': 0, 'disgust': 0, 'anger': 0, 'surprise': 0, 'fear': 0, 'trust': 1, 'english word': 'happy'}, {'anticipation': 0, 'sentence': 7, 'joy': 0, 'review': 3, 'sadness': 0, 'disgust': 0, 'anger': 0, 'surprise': 0, 'fear': 0, 'trust': 0, 'english word': 'hour'}, {'anticipation': 0, 'sentence': 7, 'joy': 0, 'review': 3, 'sadness': 0, 'disgust': 0, 'anger': 0, 'surprise': 0, 'fear': 0, 'trust': 0, 'english word': 'decent'}, {'anticipation': 0, 'sentence': 7, 'joy': 0, 'review': 3, 'sadness': 0, 'disgust': 0, 'anger': 0, 'surprise': 0, 'fear': 0, 'trust': 0, 'english word': 'glass'}, {'anticipation': 0, 'sentence': 7, 'joy': 0, 'review': 3, 'sadness': 0, 'disgust': 0, 'anger': 0, 'surprise': 0, 'fear': 0, 'trust': 0, 'english word': 'wine'}, {'anticipation': 0, 'sentence': 7, 'joy': 0, 'review': 3, 'sadness': 0, 'disgust': 0, 'anger': 0, 'surprise': 0, 'fear': 0, 'trust': 1, 'english word': 'modest'}, {'anticipation': 0, 'sentence': 7, 'joy': 0, 'review': 3, 'sadness': 0, 'disgust': 0, 'anger': 0, 'surprise': 0, 'fear': 0, 'trust': 0, 'english word': 'lobby'}, {'anticipation': 0, 'sentence': 7, 'joy': 0, 'review': 3, 'sadness': 0, 'disgust': 0, 'anger': 0, 'surprise': 0, 'fear': 0, 'trust': 0, 'english word': 'lounge'}, {'anticipation': 0, 'sentence': 7, 'joy': 0, 'review': 3, 'sadness': 0, 'disgust': 0, 'anger': 0, 'surprise': 0, 'fear': 0, 'trust': 0, 'english word': 'bring'}, {'anticipation': 0, 'sentence': 7, 'joy': 0, 'review': 3, 'sadness': 0, 'disgust': 0, 'anger': 0, 'surprise': 0, 'fear': 0, 'trust': 0, 'english word': 'room'}, {'anticipation': 0, 'sentence': 8, 'joy': 0, 'review': 3, 'sadness': 0, 'disgust': 0, 'anger': 0, 'surprise': 0, 'fear': 0, 'trust': 0, 'english word': 'lobby'}, {'anticipation': 0, 'sentence': 8, 'joy': 0, 'review': 3, 'sadness': 0, 'disgust': 0, 'anger': 0, 'surprise': 0, 'fear': 0, 'trust': 0, 'english word': 'lounge'}, {'anticipation': 0, 'sentence': 8, 'joy': 0, 'review': 3, 'sadness': 0, 'disgust': 0, 'anger': 0, 'surprise': 0, 'fear': 0, 'trust': 0, 'english word': 'seat'}, {'anticipation': 0, 'sentence': 8, 'joy': 0, 'review': 3, 'sadness': 0, 'disgust': 0, 'anger': 0, 'surprise': 0, 'fear': 0, 'trust': 0, 'english word': 'table'}, {'anticipation': 0, 'sentence': 8, 'joy': 0, 'review': 3, 'sadness': 0, 'disgust': 0, 'anger': 0, 'surprise': 0, 'fear': 0, 'trust': 0, 'english word': 'chair'}, {'anticipation': 0, 'sentence': 8, 'joy': 0, 'review': 3, 'sadness': 0, 'disgust': 0, 'anger': 0, 'surprise': 0, 'fear': 0, 'trust': 0, 'english word': 'buy'}, {'anticipation': 0, 'sentence': 8, 'joy': 1, 'review': 3, 'sadness': 0, 'disgust': 0, 'anger': 0, 'surprise': 0, 'fear': 0, 'trust': 1, 'english word': 'food'}, {'anticipation': 0, 'sentence': 8, 'joy': 0, 'review': 3, 'sadness': 0, 'disgust': 0, 'anger': 0, 'surprise': 0, 'fear': 0, 'trust': 0, 'english word': 'adjacent'}, {'anticipation': 0, 'sentence': 8, 'joy': 0, 'review': 3, 'sadness': 0, 'disgust': 0, 'anger': 0, 'surprise': 0, 'fear': 0, 'trust': 0, 'english word': 'restaurant'}, {'anticipation': 0, 'sentence': 9, 'joy': 0, 'review': 3, 'sadness': 0, 'disgust': 0, 'anger': 0, 'surprise': 0, 'fear': 0, 'trust': 0, 'english word': 'suggestion'}, {'anticipation': 0, 'sentence': 9, 'joy': 0, 'review': 3, 'sadness': 0, 'disgust': 0, 'anger': 0, 'surprise': 0, 'fear': 0, 'trust': 0, 'english word': 'offer'}, {'anticipation': 0, 'sentence': 9, 'joy': 0, 'review': 3, 'sadness': 0, 'disgust': 0, 'anger': 0, 'surprise': 0, 'fear': 0, 'trust': 0, 'english word': 'selection'}, {'anticipation': 0, 'sentence': 9, 'joy': 0, 'review': 3, 'sadness': 0, 'disgust': 0, 'anger': 0, 'surprise': 0, 'fear': 0, 'trust': 0, 'english word': 'cracker'}, {'anticipation': 0, 'sentence': 9, 'joy': 0, 'review': 3, 'sadness': 0, 'disgust': 0, 'anger': 0, 'surprise': 0, 'fear': 0, 'trust': 0, 'english word': 'platter'}, {'anticipation': 0, 'sentence': 9, 'joy': 0, 'review': 3, 'sadness': 0, 'disgust': 0, 'anger': 0, 'surprise': 0, 'fear': 0, 'trust': 0, 'english word': 'wine'}, {'anticipation': 0, 'sentence': '10', 'joy': 0, 'review': 3, 'sadness': 0, 'disgust': 0, 'anger': 0, 'surprise': 0, 'fear': 0, 'trust': 0, 'english word': 'order'}, {'anticipation': 0, 'sentence': '10', 'joy': 0, 'review': 3, 'sadness': 0, 'disgust': 0, 'anger': 0, 'surprise': 0, 'fear': 0, 'trust': 0, 'english word': 'custom'}, {'anticipation': 0, 'sentence': '10', 'joy': 0, 'review': 3, 'sadness': 0, 'disgust': 0, 'anger': 0, 'surprise': 0, 'fear': 0, 'trust': 0, 'english word': 'make'}, {'anticipation': 0, 'sentence': '10', 'joy': 0, 'review': 3, 'sadness': 0, 'disgust': 0, 'anger': 0, 'surprise': 0, 'fear': 0, 'trust': 0, 'english word': 'work'}, {'anticipation': 0, 'sentence': '11', 'joy': 0, 'review': 3, 'sadness': 0, 'disgust': 0, 'anger': 0, 'surprise': 0, 'fear': 0, 'trust': 0, 'english word': 'eat'}, {'anticipation': 0, 'sentence': '11', 'joy': 0, 'review': 3, 'sadness': 0, 'disgust': 0, 'anger': 0, 'surprise': 0, 'fear': 0, 'trust': 0, 'english word': 'hotel'}, {'anticipation': 0, 'sentence': '11', 'joy': 0, 'review': 3, 'sadness': 0, 'disgust': 0, 'anger': 0, 'surprise': 0, 'fear': 0, 'trust': 0, 'english word': 'restaurant'}, {'anticipation': 0, 'sentence': '12', 'joy': 0, 'review': 3, 'sadness': 0, 'disgust': 0, 'anger': 0, 'surprise': 0, 'fear': 0, 'trust': 0, 'english word': 'restaurant'}, {'anticipation': 0, 'sentence': '12', 'joy': 0, 'review': 3, 'sadness': 0, 'disgust': 0, 'anger': 0, 'surprise': 0, 'fear': 0, 'trust': 0, 'english word': 'lobby'}, {'anticipation': 0, 'sentence': '12', 'joy': 0, 'review': 3, 'sadness': 0, 'disgust': 0, 'anger': 0, 'surprise': 0, 'fear': 0, 'trust': 0, 'english word': 'breakfast'}, {'anticipation': 0, 'sentence': '12', 'joy': 0, 'review': 3, 'sadness': 0, 'disgust': 0, 'anger': 0, 'surprise': 0, 'fear': 0, 'trust': 0, 'english word': 'entree'}, {'anticipation': 0, 'sentence': '13', 'joy': 0, 'review': 3, 'sadness': 0, 'disgust': 0, 'anger': 0, 'surprise': 0, 'fear': 0, 'trust': 0, 'english word': 'decent'}, {'anticipation': 0, 'sentence': '13', 'joy': 0, 'review': 3, 'sadness': 0, 'disgust': 0, 'anger': 0, 'surprise': 0, 'fear': 0, 'trust': 0, 'english word': 'breakfast'}, {'anticipation': 0, 'sentence': '13', 'joy': 0, 'review': 3, 'sadness': 0, 'disgust': 0, 'anger': 0, 'surprise': 0, 'fear': 0, 'trust': 0, 'english word': 'block'}, {'anticipation': 0, 'sentence': '13', 'joy': 0, 'review': 3, 'sadness': 0, 'disgust': 0, 'anger': 0, 'surprise': 0, 'fear': 0, 'trust': 0, 'english word': 'hotel'}, {'anticipation': 0, 'sentence': '14', 'joy': 0, 'review': 3, 'sadness': 0, 'disgust': 0, 'anger': 0, 'surprise': 0, 'fear': 0, 'trust': 0, 'english word': 'hotel'}, {'anticipation': 0, 'sentence': '14', 'joy': 0, 'review': 3, 'sadness': 0, 'disgust': 0, 'anger': 0, 'surprise': 0, 'fear': 0, 'trust': 0, 'english word': 'designer'}, {'anticipation': 0, 'sentence': '14', 'joy': 0, 'review': 3, 'sadness': 0, 'disgust': 0, 'anger': 0, 'surprise': 0, 'fear': 0, 'trust': 0, 'english word': 'hotel'}, {'anticipation': 0, 'sentence': '14', 'joy': 0, 'review': 3, 'sadness': 0, 'disgust': 0, 'anger': 0, 'surprise': 0, 'fear': 0, 'trust': 0, 'english word': 'stay'}, {'anticipation': 0, 'sentence': '14', 'joy': 0, 'review': 3, 'sadness': 0, 'disgust': 0, 'anger': 0, 'surprise': 0, 'fear': 0, 'trust': 1, 'english word': 'recommend'}]\n"
     ]
    }
   ],
   "source": [
    "print input_data"
   ]
  },
  {
   "cell_type": "code",
   "execution_count": 79,
   "metadata": {
    "collapsed": true
   },
   "outputs": [],
   "source": [
    "# list of lists of dictionaries(word + emotions + review number) of each review \n",
    "list_of_reviews = []\n",
    "\n",
    "amount_reviews = set()\n",
    "for row in input_data:\n",
    "    i = int(row['review'])\n",
    "    amount_reviews.add(i)\n",
    "\n",
    "for i in range(len(amount_reviews)):\n",
    "    review = []\n",
    "    for row in input_data:\n",
    "        if int(row['review']) == i:\n",
    "            review.append(row)\n",
    "    list_of_reviews.append(review)"
   ]
  },
  {
   "cell_type": "code",
   "execution_count": 80,
   "metadata": {
    "collapsed": false
   },
   "outputs": [
    {
     "name": "stdout",
     "output_type": "stream",
     "text": [
      "set([0, 1, 2, 3, 4, 5, 6, 7, 8])\n",
      "set([0, 1, 2, 3])\n",
      "set([0, 1, 2, 3, 4, 5, 6, 7, 8])\n",
      "set([0, 1, 2, 3, 4, 5, 6, 7, 8, 9, 10, 11, 12, 13, 14])\n"
     ]
    }
   ],
   "source": [
    "amount_sentences_per_review = []\n",
    "for review in list_of_reviews:\n",
    "    amount_sentences = set()\n",
    "    for row in review:\n",
    "        i = int(row['sentence'])\n",
    "        amount_sentences.add(i)\n",
    "    print amount_sentences\n",
    "    amount_sentences_per_review.append(len(amount_sentences))"
   ]
  },
  {
   "cell_type": "code",
   "execution_count": 99,
   "metadata": {
    "collapsed": true
   },
   "outputs": [],
   "source": [
    "lol_of_reviews = [] # List of lists of reviews\n",
    "\n",
    "for i, rev in enumerate(list_of_reviews):\n",
    "    review = []\n",
    "    for j in range(amount_sentences_per_review[i]):\n",
    "        sentence = []\n",
    "        for word in rev:\n",
    "            if int(word['review']) == i and int(word['sentence']) == j:\n",
    "                sentence.append(word)\n",
    "        review.append(sentence)\n",
    "    lol_of_reviews.append(review)"
   ]
  },
  {
   "cell_type": "code",
   "execution_count": 279,
   "metadata": {
    "collapsed": false
   },
   "outputs": [],
   "source": [
    "scores_all_reviews = []\n",
    "\n",
    "for review in lol_of_reviews:\n",
    "    anger_score = []\n",
    "    fear_score = []\n",
    "    anticipation_score = []\n",
    "    trust_score = []\n",
    "    surprise_score = []\n",
    "    sadness_score = []\n",
    "    joy_score = []\n",
    "    disgust_score = []\n",
    "    scores = []\n",
    "    for sentence in review:\n",
    "        amount_of_words = len(sentence)\n",
    "        anger = []\n",
    "        fear = []\n",
    "        anticipation = []\n",
    "        trust = []\n",
    "        surprise = []\n",
    "        sadness = []\n",
    "        joy = []\n",
    "        disgust = []\n",
    "        for i, word in enumerate(sentence):\n",
    "            anger.append(sentence[i]['anger'])\n",
    "            fear.append(sentence[i]['fear'])\n",
    "            anticipation.append(sentence[i]['anticipation'])\n",
    "            trust.append(sentence[i]['trust'])\n",
    "            surprise.append(sentence[i]['surprise'])\n",
    "            sadness.append(sentence[i]['sadness'])\n",
    "            joy.append(sentence[i]['joy'])\n",
    "            disgust.append(sentence[i]['disgust'])\n",
    "            \n",
    "        anger_score.append(sum(anger)/amount_of_words)\n",
    "        fear_score.append(sum(fear)/amount_of_words)\n",
    "        anticipation_score.append(sum(anticipation)/amount_of_words)\n",
    "        trust_score.append(sum(trust)/amount_of_words)\n",
    "        surprise_score.append(sum(surprise)/amount_of_words)\n",
    "        sadness_score.append(sum(sadness)/amount_of_words)\n",
    "        joy_score.append(sum(joy)/amount_of_words)\n",
    "        disgust_score.append(sum(disgust)/amount_of_words)\n",
    "\n",
    "    scores.append(anger_score)\n",
    "    scores.append(fear_score)\n",
    "    scores.append(anticipation_score)\n",
    "    scores.append(trust_score)\n",
    "    scores.append(surprise_score)\n",
    "    scores.append(sadness_score)\n",
    "    scores.append(joy_score)\n",
    "    scores.append(disgust_score)\n",
    "    \n",
    "    scores_all_reviews.append(scores)"
   ]
  },
  {
   "cell_type": "code",
   "execution_count": 268,
   "metadata": {
    "collapsed": false
   },
   "outputs": [],
   "source": [
    "scores_transposed = []\n",
    "\n",
    "for review in scores_all_reviews:\n",
    "    scores_transposed.append(np.transpose(review))"
   ]
  },
  {
   "cell_type": "code",
   "execution_count": 270,
   "metadata": {
    "collapsed": false
   },
   "outputs": [
    {
     "data": {
      "text/plain": [
       "(9L, 8L)"
      ]
     },
     "execution_count": 270,
     "metadata": {},
     "output_type": "execute_result"
    }
   ],
   "source": [
    "np.shape(scores_transposed[0])"
   ]
  },
  {
   "cell_type": "code",
   "execution_count": 281,
   "metadata": {
    "collapsed": false
   },
   "outputs": [],
   "source": [
    "scores_total = []\n",
    "\n",
    "for review in scores_transposed:\n",
    "    for sentence in review:\n",
    "        scores_total.append(list(sentence))"
   ]
  },
  {
   "cell_type": "code",
   "execution_count": 282,
   "metadata": {
    "collapsed": false
   },
   "outputs": [
    {
     "name": "stdout",
     "output_type": "stream",
     "text": [
      "Successfully wrote 37 entries to file: analysis_output_sentences.json\n"
     ]
    }
   ],
   "source": [
    "with open(ANALYSIS_FILE, 'w') as f:\n",
    "    json.dump(scores_total, f)\n",
    "    print('Successfully wrote '+str(len(scores_total))+' entries to file: '+ANALYSIS_FILE)"
   ]
  },
  {
   "cell_type": "code",
   "execution_count": null,
   "metadata": {
    "collapsed": true
   },
   "outputs": [],
   "source": []
  }
 ],
 "metadata": {
  "anaconda-cloud": {},
  "kernelspec": {
   "display_name": "Python [Root]",
   "language": "python",
   "name": "Python [Root]"
  },
  "language_info": {
   "codemirror_mode": {
    "name": "ipython",
    "version": 2
   },
   "file_extension": ".py",
   "mimetype": "text/x-python",
   "name": "python",
   "nbconvert_exporter": "python",
   "pygments_lexer": "ipython2",
   "version": "2.7.14"
  }
 },
 "nbformat": 4,
 "nbformat_minor": 1
}
